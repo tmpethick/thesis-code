{
 "cells": [
  {
   "cell_type": "code",
   "execution_count": 28,
   "metadata": {},
   "outputs": [],
   "source": [
    "%matplotlib inline"
   ]
  },
  {
   "cell_type": "code",
   "execution_count": 29,
   "metadata": {},
   "outputs": [
    {
     "name": "stdout",
     "output_type": "stream",
     "text": [
      "The autoreload extension is already loaded. To reload it, use:\n",
      "  %reload_ext autoreload\n"
     ]
    }
   ],
   "source": [
    "%load_ext autoreload\n",
    "%autoreload 2"
   ]
  },
  {
   "cell_type": "code",
   "execution_count": 30,
   "metadata": {},
   "outputs": [],
   "source": [
    "import sys\n",
    "sys.path.append('.')\n",
    "\n",
    "import pandas as pd\n",
    "import numpy as np\n",
    "import incense\n",
    "from incense import ExperimentLoader\n",
    "import matplotlib.pyplot as plt\n",
    "from src import settings\n",
    "\n",
    "loader = ExperimentLoader(\n",
    "    mongo_uri=settings.MONGO_DB_URL,\n",
    "    db_name=settings.MONGO_DB_NAME\n",
    ")"
   ]
  },
  {
   "cell_type": "code",
   "execution_count": 31,
   "metadata": {},
   "outputs": [],
   "source": [
    "def find_similar(exp):\n",
    "    \"\"\"function to find based on hash.\n",
    "    \"\"\"\n",
    "    hash_ = exp.to_dict()['config'][settings.EXP_HASH]\n",
    "    return loader.find_by_config_key(settings.EXP_HASH, hash_)\n",
    "\n",
    "def hash_based_bundle(exps):\n",
    "    bundles = {}\n",
    "    for exp in exps:\n",
    "        hash_ = exp.to_dict()['config'][settings.EXP_HASH]\n",
    "        if hash_ in bundles:\n",
    "            bundles[hash_].append(exp)\n",
    "        else:\n",
    "            bundles[hash_] = [exp]\n",
    "    return bundles\n",
    "\n",
    "def get_bo_plots(exp):\n",
    "    return {k: v for k,v in exp.artifacts.items() if k.startswith('bo-plot')}"
   ]
  },
  {
   "cell_type": "markdown",
   "metadata": {},
   "source": [
    "# Show aggregate\n"
   ]
  },
  {
   "cell_type": "code",
   "execution_count": 17,
   "metadata": {},
   "outputs": [],
   "source": [
    "# From one to all of same hash.\n",
    "\n",
    "query = {\"$and\": [\n",
    "            {\"config.model.name\": \"GPModel\"},\n",
    "        ]}\n",
    "exp = loader.find(query)[0]\n",
    "exps = find_similar(exp)"
   ]
  },
  {
   "cell_type": "code",
   "execution_count": 18,
   "metadata": {},
   "outputs": [
    {
     "data": {
      "text/html": [
       "<div>\n",
       "<style scoped>\n",
       "    .dataframe tbody tr th:only-of-type {\n",
       "        vertical-align: middle;\n",
       "    }\n",
       "\n",
       "    .dataframe tbody tr th {\n",
       "        vertical-align: top;\n",
       "    }\n",
       "\n",
       "    .dataframe thead th {\n",
       "        text-align: right;\n",
       "    }\n",
       "</style>\n",
       "<table border=\"1\" class=\"dataframe\">\n",
       "  <thead>\n",
       "    <tr style=\"text-align: right;\">\n",
       "      <th></th>\n",
       "      <th>count</th>\n",
       "      <th>exps</th>\n",
       "      <th>model</th>\n",
       "      <th>model2</th>\n",
       "      <th>acq</th>\n",
       "      <th>bo</th>\n",
       "      <th>f</th>\n",
       "      <th>config</th>\n",
       "    </tr>\n",
       "  </thead>\n",
       "  <tbody>\n",
       "    <tr>\n",
       "      <th>063dfefe784a0babbea92e7f2747ac9322a61002</th>\n",
       "      <td>1</td>\n",
       "      <td>[Experiment(id=15, name=lions)]</td>\n",
       "      <td>DKLGPModel</td>\n",
       "      <td>None</td>\n",
       "      <td>None</td>\n",
       "      <td>False</td>\n",
       "      <td>TwoKink1D</td>\n",
       "      <td>{'exp_hash': '063dfefe784a0babbea92e7f2747ac93...</td>\n",
       "    </tr>\n",
       "    <tr>\n",
       "      <th>10c65b48190b6e65ca86957e92eeacdf3035082e</th>\n",
       "      <td>1</td>\n",
       "      <td>[Experiment(id=19, name=lions)]</td>\n",
       "      <td>DKLGPModel</td>\n",
       "      <td>None</td>\n",
       "      <td>None</td>\n",
       "      <td>False</td>\n",
       "      <td>TwoKink1D</td>\n",
       "      <td>{'exp_hash': '10c65b48190b6e65ca86957e92eeacdf...</td>\n",
       "    </tr>\n",
       "    <tr>\n",
       "      <th>312255371f61c50a4d528b678e156692ab42ea2c</th>\n",
       "      <td>2</td>\n",
       "      <td>[Experiment(id=10, name=lions), Experiment(id=...</td>\n",
       "      <td>GPModel</td>\n",
       "      <td>None</td>\n",
       "      <td>None</td>\n",
       "      <td>False</td>\n",
       "      <td>TwoKink1D</td>\n",
       "      <td>{'exp_hash': '312255371f61c50a4d528b678e156692...</td>\n",
       "    </tr>\n",
       "    <tr>\n",
       "      <th>397630bf6f746694daeeb93b9099cd6cb021e149</th>\n",
       "      <td>1</td>\n",
       "      <td>[Experiment(id=18, name=lions)]</td>\n",
       "      <td>GPModel</td>\n",
       "      <td>None</td>\n",
       "      <td>None</td>\n",
       "      <td>False</td>\n",
       "      <td>TwoKink1D</td>\n",
       "      <td>{'exp_hash': '397630bf6f746694daeeb93b9099cd6c...</td>\n",
       "    </tr>\n",
       "    <tr>\n",
       "      <th>48ccc35c3e7fff27c1f745de12c5b075e41f0033</th>\n",
       "      <td>1</td>\n",
       "      <td>[Experiment(id=22, name=lions)]</td>\n",
       "      <td>DKLGPModel</td>\n",
       "      <td>None</td>\n",
       "      <td>None</td>\n",
       "      <td>False</td>\n",
       "      <td>TwoKink1D</td>\n",
       "      <td>{'exp_hash': '48ccc35c3e7fff27c1f745de12c5b075...</td>\n",
       "    </tr>\n",
       "    <tr>\n",
       "      <th>5b75255ff678d55d27090a41e64370b4d082c4dd</th>\n",
       "      <td>1</td>\n",
       "      <td>[Experiment(id=12, name=lions)]</td>\n",
       "      <td>GPModel</td>\n",
       "      <td>None</td>\n",
       "      <td>None</td>\n",
       "      <td>False</td>\n",
       "      <td>TwoKinkDEmbedding</td>\n",
       "      <td>{'exp_hash': '5b75255ff678d55d27090a41e64370b4...</td>\n",
       "    </tr>\n",
       "    <tr>\n",
       "      <th>6ce66b45c365a598090b33ec8d4051764c2ef21a</th>\n",
       "      <td>1</td>\n",
       "      <td>[Experiment(id=11, name=lions)]</td>\n",
       "      <td>GPModel</td>\n",
       "      <td>None</td>\n",
       "      <td>None</td>\n",
       "      <td>False</td>\n",
       "      <td>TwoKink2D</td>\n",
       "      <td>{'exp_hash': '6ce66b45c365a598090b33ec8d405176...</td>\n",
       "    </tr>\n",
       "    <tr>\n",
       "      <th>7509b69f690b0ce48212710ae1148a0db0350817</th>\n",
       "      <td>1</td>\n",
       "      <td>[Experiment(id=23, name=lions)]</td>\n",
       "      <td>DKLGPModel</td>\n",
       "      <td>None</td>\n",
       "      <td>None</td>\n",
       "      <td>False</td>\n",
       "      <td>TwoKink1D</td>\n",
       "      <td>{'exp_hash': '7509b69f690b0ce48212710ae1148a0d...</td>\n",
       "    </tr>\n",
       "    <tr>\n",
       "      <th>881e4d4b1bf3803d2da05eadad32289ee6c27d3d</th>\n",
       "      <td>1</td>\n",
       "      <td>[Experiment(id=16, name=lions)]</td>\n",
       "      <td>DKLGPModel</td>\n",
       "      <td>None</td>\n",
       "      <td>None</td>\n",
       "      <td>False</td>\n",
       "      <td>TwoKink1D</td>\n",
       "      <td>{'exp_hash': '881e4d4b1bf3803d2da05eadad32289e...</td>\n",
       "    </tr>\n",
       "    <tr>\n",
       "      <th>8d4d67d999c4e2e58f752881d0e9bca2efe03e8a</th>\n",
       "      <td>1</td>\n",
       "      <td>[Experiment(id=17, name=lions)]</td>\n",
       "      <td>DKLGPModel</td>\n",
       "      <td>None</td>\n",
       "      <td>None</td>\n",
       "      <td>False</td>\n",
       "      <td>TwoKink1D</td>\n",
       "      <td>{'exp_hash': '8d4d67d999c4e2e58f752881d0e9bca2...</td>\n",
       "    </tr>\n",
       "    <tr>\n",
       "      <th>8fff3abfeec3c20253fcefb262001918f96baad9</th>\n",
       "      <td>1</td>\n",
       "      <td>[Experiment(id=9, name=lions)]</td>\n",
       "      <td>DKLGPModel</td>\n",
       "      <td>None</td>\n",
       "      <td>None</td>\n",
       "      <td>False</td>\n",
       "      <td>TwoKink1D</td>\n",
       "      <td>{'exp_hash': '8fff3abfeec3c20253fcefb262001918...</td>\n",
       "    </tr>\n",
       "    <tr>\n",
       "      <th>bad0131b1f99d3b4ac8b76025aba7fcc384e2135</th>\n",
       "      <td>1</td>\n",
       "      <td>[Experiment(id=21, name=lions)]</td>\n",
       "      <td>DKLGPModel</td>\n",
       "      <td>None</td>\n",
       "      <td>None</td>\n",
       "      <td>False</td>\n",
       "      <td>TwoKink1D</td>\n",
       "      <td>{'exp_hash': 'bad0131b1f99d3b4ac8b76025aba7fcc...</td>\n",
       "    </tr>\n",
       "    <tr>\n",
       "      <th>be010807c618554e0c0299098ab031ebc0486802</th>\n",
       "      <td>1</td>\n",
       "      <td>[Experiment(id=13, name=lions)]</td>\n",
       "      <td>GPModel</td>\n",
       "      <td>None</td>\n",
       "      <td>None</td>\n",
       "      <td>False</td>\n",
       "      <td>TwoKinkDEmbedding</td>\n",
       "      <td>{'exp_hash': 'be010807c618554e0c0299098ab031eb...</td>\n",
       "    </tr>\n",
       "    <tr>\n",
       "      <th>c1fd7d428bfa13960b4d709474bc5d5c76383969</th>\n",
       "      <td>1</td>\n",
       "      <td>[Experiment(id=20, name=lions)]</td>\n",
       "      <td>DKLGPModel</td>\n",
       "      <td>None</td>\n",
       "      <td>None</td>\n",
       "      <td>False</td>\n",
       "      <td>TwoKink1D</td>\n",
       "      <td>{'exp_hash': 'c1fd7d428bfa13960b4d709474bc5d5c...</td>\n",
       "    </tr>\n",
       "    <tr>\n",
       "      <th>fd8723f211413604d22ed6fabf10d16a3da28f8d</th>\n",
       "      <td>1</td>\n",
       "      <td>[Experiment(id=24, name=lions)]</td>\n",
       "      <td>DKLGPModel</td>\n",
       "      <td>None</td>\n",
       "      <td>None</td>\n",
       "      <td>False</td>\n",
       "      <td>TwoKink1D</td>\n",
       "      <td>{'exp_hash': 'fd8723f211413604d22ed6fabf10d16a...</td>\n",
       "    </tr>\n",
       "  </tbody>\n",
       "</table>\n",
       "</div>"
      ],
      "text/plain": [
       "                                          count  \\\n",
       "063dfefe784a0babbea92e7f2747ac9322a61002      1   \n",
       "10c65b48190b6e65ca86957e92eeacdf3035082e      1   \n",
       "312255371f61c50a4d528b678e156692ab42ea2c      2   \n",
       "397630bf6f746694daeeb93b9099cd6cb021e149      1   \n",
       "48ccc35c3e7fff27c1f745de12c5b075e41f0033      1   \n",
       "5b75255ff678d55d27090a41e64370b4d082c4dd      1   \n",
       "6ce66b45c365a598090b33ec8d4051764c2ef21a      1   \n",
       "7509b69f690b0ce48212710ae1148a0db0350817      1   \n",
       "881e4d4b1bf3803d2da05eadad32289ee6c27d3d      1   \n",
       "8d4d67d999c4e2e58f752881d0e9bca2efe03e8a      1   \n",
       "8fff3abfeec3c20253fcefb262001918f96baad9      1   \n",
       "bad0131b1f99d3b4ac8b76025aba7fcc384e2135      1   \n",
       "be010807c618554e0c0299098ab031ebc0486802      1   \n",
       "c1fd7d428bfa13960b4d709474bc5d5c76383969      1   \n",
       "fd8723f211413604d22ed6fabf10d16a3da28f8d      1   \n",
       "\n",
       "                                                                                       exps  \\\n",
       "063dfefe784a0babbea92e7f2747ac9322a61002                    [Experiment(id=15, name=lions)]   \n",
       "10c65b48190b6e65ca86957e92eeacdf3035082e                    [Experiment(id=19, name=lions)]   \n",
       "312255371f61c50a4d528b678e156692ab42ea2c  [Experiment(id=10, name=lions), Experiment(id=...   \n",
       "397630bf6f746694daeeb93b9099cd6cb021e149                    [Experiment(id=18, name=lions)]   \n",
       "48ccc35c3e7fff27c1f745de12c5b075e41f0033                    [Experiment(id=22, name=lions)]   \n",
       "5b75255ff678d55d27090a41e64370b4d082c4dd                    [Experiment(id=12, name=lions)]   \n",
       "6ce66b45c365a598090b33ec8d4051764c2ef21a                    [Experiment(id=11, name=lions)]   \n",
       "7509b69f690b0ce48212710ae1148a0db0350817                    [Experiment(id=23, name=lions)]   \n",
       "881e4d4b1bf3803d2da05eadad32289ee6c27d3d                    [Experiment(id=16, name=lions)]   \n",
       "8d4d67d999c4e2e58f752881d0e9bca2efe03e8a                    [Experiment(id=17, name=lions)]   \n",
       "8fff3abfeec3c20253fcefb262001918f96baad9                     [Experiment(id=9, name=lions)]   \n",
       "bad0131b1f99d3b4ac8b76025aba7fcc384e2135                    [Experiment(id=21, name=lions)]   \n",
       "be010807c618554e0c0299098ab031ebc0486802                    [Experiment(id=13, name=lions)]   \n",
       "c1fd7d428bfa13960b4d709474bc5d5c76383969                    [Experiment(id=20, name=lions)]   \n",
       "fd8723f211413604d22ed6fabf10d16a3da28f8d                    [Experiment(id=24, name=lions)]   \n",
       "\n",
       "                                               model model2   acq     bo  \\\n",
       "063dfefe784a0babbea92e7f2747ac9322a61002  DKLGPModel   None  None  False   \n",
       "10c65b48190b6e65ca86957e92eeacdf3035082e  DKLGPModel   None  None  False   \n",
       "312255371f61c50a4d528b678e156692ab42ea2c     GPModel   None  None  False   \n",
       "397630bf6f746694daeeb93b9099cd6cb021e149     GPModel   None  None  False   \n",
       "48ccc35c3e7fff27c1f745de12c5b075e41f0033  DKLGPModel   None  None  False   \n",
       "5b75255ff678d55d27090a41e64370b4d082c4dd     GPModel   None  None  False   \n",
       "6ce66b45c365a598090b33ec8d4051764c2ef21a     GPModel   None  None  False   \n",
       "7509b69f690b0ce48212710ae1148a0db0350817  DKLGPModel   None  None  False   \n",
       "881e4d4b1bf3803d2da05eadad32289ee6c27d3d  DKLGPModel   None  None  False   \n",
       "8d4d67d999c4e2e58f752881d0e9bca2efe03e8a  DKLGPModel   None  None  False   \n",
       "8fff3abfeec3c20253fcefb262001918f96baad9  DKLGPModel   None  None  False   \n",
       "bad0131b1f99d3b4ac8b76025aba7fcc384e2135  DKLGPModel   None  None  False   \n",
       "be010807c618554e0c0299098ab031ebc0486802     GPModel   None  None  False   \n",
       "c1fd7d428bfa13960b4d709474bc5d5c76383969  DKLGPModel   None  None  False   \n",
       "fd8723f211413604d22ed6fabf10d16a3da28f8d  DKLGPModel   None  None  False   \n",
       "\n",
       "                                                          f  \\\n",
       "063dfefe784a0babbea92e7f2747ac9322a61002          TwoKink1D   \n",
       "10c65b48190b6e65ca86957e92eeacdf3035082e          TwoKink1D   \n",
       "312255371f61c50a4d528b678e156692ab42ea2c          TwoKink1D   \n",
       "397630bf6f746694daeeb93b9099cd6cb021e149          TwoKink1D   \n",
       "48ccc35c3e7fff27c1f745de12c5b075e41f0033          TwoKink1D   \n",
       "5b75255ff678d55d27090a41e64370b4d082c4dd  TwoKinkDEmbedding   \n",
       "6ce66b45c365a598090b33ec8d4051764c2ef21a          TwoKink2D   \n",
       "7509b69f690b0ce48212710ae1148a0db0350817          TwoKink1D   \n",
       "881e4d4b1bf3803d2da05eadad32289ee6c27d3d          TwoKink1D   \n",
       "8d4d67d999c4e2e58f752881d0e9bca2efe03e8a          TwoKink1D   \n",
       "8fff3abfeec3c20253fcefb262001918f96baad9          TwoKink1D   \n",
       "bad0131b1f99d3b4ac8b76025aba7fcc384e2135          TwoKink1D   \n",
       "be010807c618554e0c0299098ab031ebc0486802  TwoKinkDEmbedding   \n",
       "c1fd7d428bfa13960b4d709474bc5d5c76383969          TwoKink1D   \n",
       "fd8723f211413604d22ed6fabf10d16a3da28f8d          TwoKink1D   \n",
       "\n",
       "                                                                                     config  \n",
       "063dfefe784a0babbea92e7f2747ac9322a61002  {'exp_hash': '063dfefe784a0babbea92e7f2747ac93...  \n",
       "10c65b48190b6e65ca86957e92eeacdf3035082e  {'exp_hash': '10c65b48190b6e65ca86957e92eeacdf...  \n",
       "312255371f61c50a4d528b678e156692ab42ea2c  {'exp_hash': '312255371f61c50a4d528b678e156692...  \n",
       "397630bf6f746694daeeb93b9099cd6cb021e149  {'exp_hash': '397630bf6f746694daeeb93b9099cd6c...  \n",
       "48ccc35c3e7fff27c1f745de12c5b075e41f0033  {'exp_hash': '48ccc35c3e7fff27c1f745de12c5b075...  \n",
       "5b75255ff678d55d27090a41e64370b4d082c4dd  {'exp_hash': '5b75255ff678d55d27090a41e64370b4...  \n",
       "6ce66b45c365a598090b33ec8d4051764c2ef21a  {'exp_hash': '6ce66b45c365a598090b33ec8d405176...  \n",
       "7509b69f690b0ce48212710ae1148a0db0350817  {'exp_hash': '7509b69f690b0ce48212710ae1148a0d...  \n",
       "881e4d4b1bf3803d2da05eadad32289ee6c27d3d  {'exp_hash': '881e4d4b1bf3803d2da05eadad32289e...  \n",
       "8d4d67d999c4e2e58f752881d0e9bca2efe03e8a  {'exp_hash': '8d4d67d999c4e2e58f752881d0e9bca2...  \n",
       "8fff3abfeec3c20253fcefb262001918f96baad9  {'exp_hash': '8fff3abfeec3c20253fcefb262001918...  \n",
       "bad0131b1f99d3b4ac8b76025aba7fcc384e2135  {'exp_hash': 'bad0131b1f99d3b4ac8b76025aba7fcc...  \n",
       "be010807c618554e0c0299098ab031ebc0486802  {'exp_hash': 'be010807c618554e0c0299098ab031eb...  \n",
       "c1fd7d428bfa13960b4d709474bc5d5c76383969  {'exp_hash': 'c1fd7d428bfa13960b4d709474bc5d5c...  \n",
       "fd8723f211413604d22ed6fabf10d16a3da28f8d  {'exp_hash': 'fd8723f211413604d22ed6fabf10d16a...  "
      ]
     },
     "execution_count": 18,
     "metadata": {},
     "output_type": "execute_result"
    }
   ],
   "source": [
    "# display name\n",
    "# list of exp\n",
    "\n",
    "def get_exp_key_col(exp):\n",
    "    config = exp.to_dict()['config']\n",
    "    return {\n",
    "        'model': config['model']['name'],\n",
    "        'model2': config.get('model2', {}).get('name', None),\n",
    "        'acq': config.get('acquisition_function', {}).get('name'),\n",
    "        'bo': bool(config.get('bo', None)),\n",
    "        'f': config['obj_func']['name'],\n",
    "        'config': config,\n",
    "    }\n",
    "\n",
    "exps = loader.find({'status': 'COMPLETED'})\n",
    "bundles = hash_based_bundle(exps)\n",
    "bundles = {k: dict(count=len(v), exps=v, **get_exp_key_col(v[0])) for k,v in bundles.items()}\n",
    "\n",
    "df = pd.DataFrame.from_dict(bundles, orient='index')\n",
    "df"
   ]
  },
  {
   "cell_type": "markdown",
   "metadata": {},
   "source": [
    "## Plot BO CI"
   ]
  },
  {
   "cell_type": "code",
   "execution_count": 19,
   "metadata": {},
   "outputs": [
    {
     "ename": "KeyError",
     "evalue": "'60519fa6dbfe5a80969a4b30ddd14cafbf68612f'",
     "output_type": "error",
     "traceback": [
      "\u001b[0;31m---------------------------------------------------------------------------\u001b[0m",
      "\u001b[0;31mKeyError\u001b[0m                                  Traceback (most recent call last)",
      "\u001b[0;32m~/anaconda3/envs/lions/lib/python3.6/site-packages/pandas/core/indexes/base.py\u001b[0m in \u001b[0;36mget_loc\u001b[0;34m(self, key, method, tolerance)\u001b[0m\n\u001b[1;32m   2656\u001b[0m             \u001b[0;32mtry\u001b[0m\u001b[0;34m:\u001b[0m\u001b[0;34m\u001b[0m\u001b[0;34m\u001b[0m\u001b[0m\n\u001b[0;32m-> 2657\u001b[0;31m                 \u001b[0;32mreturn\u001b[0m \u001b[0mself\u001b[0m\u001b[0;34m.\u001b[0m\u001b[0m_engine\u001b[0m\u001b[0;34m.\u001b[0m\u001b[0mget_loc\u001b[0m\u001b[0;34m(\u001b[0m\u001b[0mkey\u001b[0m\u001b[0;34m)\u001b[0m\u001b[0;34m\u001b[0m\u001b[0;34m\u001b[0m\u001b[0m\n\u001b[0m\u001b[1;32m   2658\u001b[0m             \u001b[0;32mexcept\u001b[0m \u001b[0mKeyError\u001b[0m\u001b[0;34m:\u001b[0m\u001b[0;34m\u001b[0m\u001b[0;34m\u001b[0m\u001b[0m\n",
      "\u001b[0;32mpandas/_libs/index.pyx\u001b[0m in \u001b[0;36mpandas._libs.index.IndexEngine.get_loc\u001b[0;34m()\u001b[0m\n",
      "\u001b[0;32mpandas/_libs/index.pyx\u001b[0m in \u001b[0;36mpandas._libs.index.IndexEngine.get_loc\u001b[0;34m()\u001b[0m\n",
      "\u001b[0;32mpandas/_libs/hashtable_class_helper.pxi\u001b[0m in \u001b[0;36mpandas._libs.hashtable.PyObjectHashTable.get_item\u001b[0;34m()\u001b[0m\n",
      "\u001b[0;32mpandas/_libs/hashtable_class_helper.pxi\u001b[0m in \u001b[0;36mpandas._libs.hashtable.PyObjectHashTable.get_item\u001b[0;34m()\u001b[0m\n",
      "\u001b[0;31mKeyError\u001b[0m: '60519fa6dbfe5a80969a4b30ddd14cafbf68612f'",
      "\nDuring handling of the above exception, another exception occurred:\n",
      "\u001b[0;31mKeyError\u001b[0m                                  Traceback (most recent call last)",
      "\u001b[0;32m<ipython-input-19-be6af9b7128c>\u001b[0m in \u001b[0;36m<module>\u001b[0;34m\u001b[0m\n\u001b[1;32m      1\u001b[0m \u001b[0;31m#exps_row = df.loc[df.bo == True].iloc[0]\u001b[0m\u001b[0;34m\u001b[0m\u001b[0;34m\u001b[0m\u001b[0;34m\u001b[0m\u001b[0m\n\u001b[0;32m----> 2\u001b[0;31m \u001b[0mexps_row\u001b[0m \u001b[0;34m=\u001b[0m \u001b[0mdf\u001b[0m\u001b[0;34m.\u001b[0m\u001b[0mloc\u001b[0m\u001b[0;34m[\u001b[0m\u001b[0;34m\"60519fa6dbfe5a80969a4b30ddd14cafbf68612f\"\u001b[0m\u001b[0;34m]\u001b[0m \u001b[0;31m# Kink1D\u001b[0m\u001b[0;34m\u001b[0m\u001b[0;34m\u001b[0m\u001b[0m\n\u001b[0m\u001b[1;32m      3\u001b[0m \u001b[0;31m# exps_row = df.loc[\"75d24ad445d397dbe1a8add031764c707d37cfdf\"] # IncreasingOscillationDecreasingAmplitude\u001b[0m\u001b[0;34m\u001b[0m\u001b[0;34m\u001b[0m\u001b[0;34m\u001b[0m\u001b[0m\n\u001b[1;32m      4\u001b[0m \u001b[0mexps\u001b[0m \u001b[0;34m=\u001b[0m \u001b[0mexps_row\u001b[0m\u001b[0;34m.\u001b[0m\u001b[0mexps\u001b[0m\u001b[0;34m\u001b[0m\u001b[0;34m\u001b[0m\u001b[0m\n\u001b[1;32m      5\u001b[0m \u001b[0;34m\u001b[0m\u001b[0m\n",
      "\u001b[0;32m~/anaconda3/envs/lions/lib/python3.6/site-packages/pandas/core/indexing.py\u001b[0m in \u001b[0;36m__getitem__\u001b[0;34m(self, key)\u001b[0m\n\u001b[1;32m   1498\u001b[0m \u001b[0;34m\u001b[0m\u001b[0m\n\u001b[1;32m   1499\u001b[0m             \u001b[0mmaybe_callable\u001b[0m \u001b[0;34m=\u001b[0m \u001b[0mcom\u001b[0m\u001b[0;34m.\u001b[0m\u001b[0mapply_if_callable\u001b[0m\u001b[0;34m(\u001b[0m\u001b[0mkey\u001b[0m\u001b[0;34m,\u001b[0m \u001b[0mself\u001b[0m\u001b[0;34m.\u001b[0m\u001b[0mobj\u001b[0m\u001b[0;34m)\u001b[0m\u001b[0;34m\u001b[0m\u001b[0;34m\u001b[0m\u001b[0m\n\u001b[0;32m-> 1500\u001b[0;31m             \u001b[0;32mreturn\u001b[0m \u001b[0mself\u001b[0m\u001b[0;34m.\u001b[0m\u001b[0m_getitem_axis\u001b[0m\u001b[0;34m(\u001b[0m\u001b[0mmaybe_callable\u001b[0m\u001b[0;34m,\u001b[0m \u001b[0maxis\u001b[0m\u001b[0;34m=\u001b[0m\u001b[0maxis\u001b[0m\u001b[0;34m)\u001b[0m\u001b[0;34m\u001b[0m\u001b[0;34m\u001b[0m\u001b[0m\n\u001b[0m\u001b[1;32m   1501\u001b[0m \u001b[0;34m\u001b[0m\u001b[0m\n\u001b[1;32m   1502\u001b[0m     \u001b[0;32mdef\u001b[0m \u001b[0m_is_scalar_access\u001b[0m\u001b[0;34m(\u001b[0m\u001b[0mself\u001b[0m\u001b[0;34m,\u001b[0m \u001b[0mkey\u001b[0m\u001b[0;34m)\u001b[0m\u001b[0;34m:\u001b[0m\u001b[0;34m\u001b[0m\u001b[0;34m\u001b[0m\u001b[0m\n",
      "\u001b[0;32m~/anaconda3/envs/lions/lib/python3.6/site-packages/pandas/core/indexing.py\u001b[0m in \u001b[0;36m_getitem_axis\u001b[0;34m(self, key, axis)\u001b[0m\n\u001b[1;32m   1911\u001b[0m         \u001b[0;31m# fall thru to straight lookup\u001b[0m\u001b[0;34m\u001b[0m\u001b[0;34m\u001b[0m\u001b[0;34m\u001b[0m\u001b[0m\n\u001b[1;32m   1912\u001b[0m         \u001b[0mself\u001b[0m\u001b[0;34m.\u001b[0m\u001b[0m_validate_key\u001b[0m\u001b[0;34m(\u001b[0m\u001b[0mkey\u001b[0m\u001b[0;34m,\u001b[0m \u001b[0maxis\u001b[0m\u001b[0;34m)\u001b[0m\u001b[0;34m\u001b[0m\u001b[0;34m\u001b[0m\u001b[0m\n\u001b[0;32m-> 1913\u001b[0;31m         \u001b[0;32mreturn\u001b[0m \u001b[0mself\u001b[0m\u001b[0;34m.\u001b[0m\u001b[0m_get_label\u001b[0m\u001b[0;34m(\u001b[0m\u001b[0mkey\u001b[0m\u001b[0;34m,\u001b[0m \u001b[0maxis\u001b[0m\u001b[0;34m=\u001b[0m\u001b[0maxis\u001b[0m\u001b[0;34m)\u001b[0m\u001b[0;34m\u001b[0m\u001b[0;34m\u001b[0m\u001b[0m\n\u001b[0m\u001b[1;32m   1914\u001b[0m \u001b[0;34m\u001b[0m\u001b[0m\n\u001b[1;32m   1915\u001b[0m \u001b[0;34m\u001b[0m\u001b[0m\n",
      "\u001b[0;32m~/anaconda3/envs/lions/lib/python3.6/site-packages/pandas/core/indexing.py\u001b[0m in \u001b[0;36m_get_label\u001b[0;34m(self, label, axis)\u001b[0m\n\u001b[1;32m    139\u001b[0m             \u001b[0;32mraise\u001b[0m \u001b[0mIndexingError\u001b[0m\u001b[0;34m(\u001b[0m\u001b[0;34m'no slices here, handle elsewhere'\u001b[0m\u001b[0;34m)\u001b[0m\u001b[0;34m\u001b[0m\u001b[0;34m\u001b[0m\u001b[0m\n\u001b[1;32m    140\u001b[0m \u001b[0;34m\u001b[0m\u001b[0m\n\u001b[0;32m--> 141\u001b[0;31m         \u001b[0;32mreturn\u001b[0m \u001b[0mself\u001b[0m\u001b[0;34m.\u001b[0m\u001b[0mobj\u001b[0m\u001b[0;34m.\u001b[0m\u001b[0m_xs\u001b[0m\u001b[0;34m(\u001b[0m\u001b[0mlabel\u001b[0m\u001b[0;34m,\u001b[0m \u001b[0maxis\u001b[0m\u001b[0;34m=\u001b[0m\u001b[0maxis\u001b[0m\u001b[0;34m)\u001b[0m\u001b[0;34m\u001b[0m\u001b[0;34m\u001b[0m\u001b[0m\n\u001b[0m\u001b[1;32m    142\u001b[0m \u001b[0;34m\u001b[0m\u001b[0m\n\u001b[1;32m    143\u001b[0m     \u001b[0;32mdef\u001b[0m \u001b[0m_get_loc\u001b[0m\u001b[0;34m(\u001b[0m\u001b[0mself\u001b[0m\u001b[0;34m,\u001b[0m \u001b[0mkey\u001b[0m\u001b[0;34m,\u001b[0m \u001b[0maxis\u001b[0m\u001b[0;34m=\u001b[0m\u001b[0;32mNone\u001b[0m\u001b[0;34m)\u001b[0m\u001b[0;34m:\u001b[0m\u001b[0;34m\u001b[0m\u001b[0;34m\u001b[0m\u001b[0m\n",
      "\u001b[0;32m~/anaconda3/envs/lions/lib/python3.6/site-packages/pandas/core/generic.py\u001b[0m in \u001b[0;36mxs\u001b[0;34m(self, key, axis, level, drop_level)\u001b[0m\n\u001b[1;32m   3583\u001b[0m                                                       drop_level=drop_level)\n\u001b[1;32m   3584\u001b[0m         \u001b[0;32melse\u001b[0m\u001b[0;34m:\u001b[0m\u001b[0;34m\u001b[0m\u001b[0;34m\u001b[0m\u001b[0m\n\u001b[0;32m-> 3585\u001b[0;31m             \u001b[0mloc\u001b[0m \u001b[0;34m=\u001b[0m \u001b[0mself\u001b[0m\u001b[0;34m.\u001b[0m\u001b[0mindex\u001b[0m\u001b[0;34m.\u001b[0m\u001b[0mget_loc\u001b[0m\u001b[0;34m(\u001b[0m\u001b[0mkey\u001b[0m\u001b[0;34m)\u001b[0m\u001b[0;34m\u001b[0m\u001b[0;34m\u001b[0m\u001b[0m\n\u001b[0m\u001b[1;32m   3586\u001b[0m \u001b[0;34m\u001b[0m\u001b[0m\n\u001b[1;32m   3587\u001b[0m             \u001b[0;32mif\u001b[0m \u001b[0misinstance\u001b[0m\u001b[0;34m(\u001b[0m\u001b[0mloc\u001b[0m\u001b[0;34m,\u001b[0m \u001b[0mnp\u001b[0m\u001b[0;34m.\u001b[0m\u001b[0mndarray\u001b[0m\u001b[0;34m)\u001b[0m\u001b[0;34m:\u001b[0m\u001b[0;34m\u001b[0m\u001b[0;34m\u001b[0m\u001b[0m\n",
      "\u001b[0;32m~/anaconda3/envs/lions/lib/python3.6/site-packages/pandas/core/indexes/base.py\u001b[0m in \u001b[0;36mget_loc\u001b[0;34m(self, key, method, tolerance)\u001b[0m\n\u001b[1;32m   2657\u001b[0m                 \u001b[0;32mreturn\u001b[0m \u001b[0mself\u001b[0m\u001b[0;34m.\u001b[0m\u001b[0m_engine\u001b[0m\u001b[0;34m.\u001b[0m\u001b[0mget_loc\u001b[0m\u001b[0;34m(\u001b[0m\u001b[0mkey\u001b[0m\u001b[0;34m)\u001b[0m\u001b[0;34m\u001b[0m\u001b[0;34m\u001b[0m\u001b[0m\n\u001b[1;32m   2658\u001b[0m             \u001b[0;32mexcept\u001b[0m \u001b[0mKeyError\u001b[0m\u001b[0;34m:\u001b[0m\u001b[0;34m\u001b[0m\u001b[0;34m\u001b[0m\u001b[0m\n\u001b[0;32m-> 2659\u001b[0;31m                 \u001b[0;32mreturn\u001b[0m \u001b[0mself\u001b[0m\u001b[0;34m.\u001b[0m\u001b[0m_engine\u001b[0m\u001b[0;34m.\u001b[0m\u001b[0mget_loc\u001b[0m\u001b[0;34m(\u001b[0m\u001b[0mself\u001b[0m\u001b[0;34m.\u001b[0m\u001b[0m_maybe_cast_indexer\u001b[0m\u001b[0;34m(\u001b[0m\u001b[0mkey\u001b[0m\u001b[0;34m)\u001b[0m\u001b[0;34m)\u001b[0m\u001b[0;34m\u001b[0m\u001b[0;34m\u001b[0m\u001b[0m\n\u001b[0m\u001b[1;32m   2660\u001b[0m         \u001b[0mindexer\u001b[0m \u001b[0;34m=\u001b[0m \u001b[0mself\u001b[0m\u001b[0;34m.\u001b[0m\u001b[0mget_indexer\u001b[0m\u001b[0;34m(\u001b[0m\u001b[0;34m[\u001b[0m\u001b[0mkey\u001b[0m\u001b[0;34m]\u001b[0m\u001b[0;34m,\u001b[0m \u001b[0mmethod\u001b[0m\u001b[0;34m=\u001b[0m\u001b[0mmethod\u001b[0m\u001b[0;34m,\u001b[0m \u001b[0mtolerance\u001b[0m\u001b[0;34m=\u001b[0m\u001b[0mtolerance\u001b[0m\u001b[0;34m)\u001b[0m\u001b[0;34m\u001b[0m\u001b[0;34m\u001b[0m\u001b[0m\n\u001b[1;32m   2661\u001b[0m         \u001b[0;32mif\u001b[0m \u001b[0mindexer\u001b[0m\u001b[0;34m.\u001b[0m\u001b[0mndim\u001b[0m \u001b[0;34m>\u001b[0m \u001b[0;36m1\u001b[0m \u001b[0;32mor\u001b[0m \u001b[0mindexer\u001b[0m\u001b[0;34m.\u001b[0m\u001b[0msize\u001b[0m \u001b[0;34m>\u001b[0m \u001b[0;36m1\u001b[0m\u001b[0;34m:\u001b[0m\u001b[0;34m\u001b[0m\u001b[0;34m\u001b[0m\u001b[0m\n",
      "\u001b[0;32mpandas/_libs/index.pyx\u001b[0m in \u001b[0;36mpandas._libs.index.IndexEngine.get_loc\u001b[0;34m()\u001b[0m\n",
      "\u001b[0;32mpandas/_libs/index.pyx\u001b[0m in \u001b[0;36mpandas._libs.index.IndexEngine.get_loc\u001b[0;34m()\u001b[0m\n",
      "\u001b[0;32mpandas/_libs/hashtable_class_helper.pxi\u001b[0m in \u001b[0;36mpandas._libs.hashtable.PyObjectHashTable.get_item\u001b[0;34m()\u001b[0m\n",
      "\u001b[0;32mpandas/_libs/hashtable_class_helper.pxi\u001b[0m in \u001b[0;36mpandas._libs.hashtable.PyObjectHashTable.get_item\u001b[0;34m()\u001b[0m\n",
      "\u001b[0;31mKeyError\u001b[0m: '60519fa6dbfe5a80969a4b30ddd14cafbf68612f'"
     ]
    }
   ],
   "source": [
    "#exps_row = df.loc[df.bo == True].iloc[0]\n",
    "exps_row = df.loc[\"60519fa6dbfe5a80969a4b30ddd14cafbf68612f\"] # Kink1D\n",
    "# exps_row = df.loc[\"75d24ad445d397dbe1a8add031764c707d37cfdf\"] # IncreasingOscillationDecreasingAmplitude\n",
    "exps = exps_row.exps\n",
    "\n",
    "def get_rmse(exp):\n",
    "    \"\"\"Uses old `mse` as fallback.\"\"\"\n",
    "    return exp.metrics.get('rmse', exp.metrics.get('mse',pd.Series([])))\n",
    "\n",
    "def plot_bo_regret(exps, label=None):\n",
    "    df_concat = pd.concat([get_rmse(exp) for exp in exps], axis=1)\n",
    "    mean = df_concat.mean(axis=1)\n",
    "    var = df_concat.var(axis=1)\n",
    "    plt.plot(df_concat.index, mean, label=label)\n",
    "    plt.fill_between(df_concat.index, mean - 2 * np.sqrt(var), mean + 2 * np.sqrt(var), alpha=0.2)"
   ]
  },
  {
   "cell_type": "code",
   "execution_count": 20,
   "metadata": {},
   "outputs": [
    {
     "ename": "NameError",
     "evalue": "name 'plot_bo_regret' is not defined",
     "output_type": "error",
     "traceback": [
      "\u001b[0;31m---------------------------------------------------------------------------\u001b[0m",
      "\u001b[0;31mNameError\u001b[0m                                 Traceback (most recent call last)",
      "\u001b[0;32m<ipython-input-20-c2314752f76f>\u001b[0m in \u001b[0;36m<module>\u001b[0;34m\u001b[0m\n\u001b[1;32m      1\u001b[0m \u001b[0;31m# Calculate mean and variance of MSE\u001b[0m\u001b[0;34m\u001b[0m\u001b[0;34m\u001b[0m\u001b[0;34m\u001b[0m\u001b[0m\n\u001b[1;32m      2\u001b[0m \u001b[0;31m# TODO: maybe not silence missing MSE...\u001b[0m\u001b[0;34m\u001b[0m\u001b[0;34m\u001b[0m\u001b[0;34m\u001b[0m\u001b[0m\n\u001b[0;32m----> 3\u001b[0;31m \u001b[0mplot_bo_regret\u001b[0m\u001b[0;34m(\u001b[0m\u001b[0mexps\u001b[0m\u001b[0;34m,\u001b[0m \u001b[0mlabel\u001b[0m\u001b[0;34m=\u001b[0m\u001b[0;34m\"Regret\"\u001b[0m\u001b[0;34m)\u001b[0m\u001b[0;34m\u001b[0m\u001b[0;34m\u001b[0m\u001b[0m\n\u001b[0m\u001b[1;32m      4\u001b[0m \u001b[0mplt\u001b[0m\u001b[0;34m.\u001b[0m\u001b[0mlegend\u001b[0m\u001b[0;34m(\u001b[0m\u001b[0;34m)\u001b[0m\u001b[0;34m\u001b[0m\u001b[0;34m\u001b[0m\u001b[0m\n",
      "\u001b[0;31mNameError\u001b[0m: name 'plot_bo_regret' is not defined"
     ]
    }
   ],
   "source": [
    "# Calculate mean and variance of MSE\n",
    "# TODO: maybe not silence missing MSE...\n",
    "plot_bo_regret(exps, label=\"Regret\")\n",
    "plt.legend()"
   ]
  },
  {
   "cell_type": "code",
   "execution_count": 21,
   "metadata": {},
   "outputs": [
    {
     "ename": "IndexError",
     "evalue": "list index out of range",
     "output_type": "error",
     "traceback": [
      "\u001b[0;31m---------------------------------------------------------------------------\u001b[0m",
      "\u001b[0;31mIndexError\u001b[0m                                Traceback (most recent call last)",
      "\u001b[0;32m<ipython-input-21-c30c5bad4f83>\u001b[0m in \u001b[0;36m<module>\u001b[0;34m\u001b[0m\n\u001b[1;32m      2\u001b[0m \u001b[0;31m# TODO: plot in grid\u001b[0m\u001b[0;34m\u001b[0m\u001b[0;34m\u001b[0m\u001b[0;34m\u001b[0m\u001b[0m\n\u001b[1;32m      3\u001b[0m \u001b[0;32mfor\u001b[0m \u001b[0mi\u001b[0m\u001b[0;34m,\u001b[0m \u001b[0mexp\u001b[0m \u001b[0;32min\u001b[0m \u001b[0menumerate\u001b[0m\u001b[0;34m(\u001b[0m\u001b[0mexps\u001b[0m\u001b[0;34m)\u001b[0m\u001b[0;34m:\u001b[0m\u001b[0;34m\u001b[0m\u001b[0;34m\u001b[0m\u001b[0m\n\u001b[0;32m----> 4\u001b[0;31m     \u001b[0mname\u001b[0m\u001b[0;34m,\u001b[0m \u001b[0mlast_plot\u001b[0m \u001b[0;34m=\u001b[0m \u001b[0msorted\u001b[0m\u001b[0;34m(\u001b[0m\u001b[0mget_bo_plots\u001b[0m\u001b[0;34m(\u001b[0m\u001b[0mexp\u001b[0m\u001b[0;34m)\u001b[0m\u001b[0;34m.\u001b[0m\u001b[0mitems\u001b[0m\u001b[0;34m(\u001b[0m\u001b[0;34m)\u001b[0m\u001b[0;34m)\u001b[0m\u001b[0;34m[\u001b[0m\u001b[0;34m-\u001b[0m\u001b[0;36m1\u001b[0m\u001b[0;34m]\u001b[0m\u001b[0;34m\u001b[0m\u001b[0;34m\u001b[0m\u001b[0m\n\u001b[0m\u001b[1;32m      5\u001b[0m     \u001b[0mlast_plot\u001b[0m\u001b[0;34m.\u001b[0m\u001b[0mshow\u001b[0m\u001b[0;34m(\u001b[0m\u001b[0;34m)\u001b[0m\u001b[0;34m\u001b[0m\u001b[0;34m\u001b[0m\u001b[0m\n\u001b[1;32m      6\u001b[0m     \u001b[0mplt\u001b[0m\u001b[0;34m.\u001b[0m\u001b[0mtitle\u001b[0m\u001b[0;34m(\u001b[0m\u001b[0;34m\"Experiment {}:\"\u001b[0m\u001b[0;34m.\u001b[0m\u001b[0mformat\u001b[0m\u001b[0;34m(\u001b[0m\u001b[0mi\u001b[0m\u001b[0;34m)\u001b[0m\u001b[0;34m)\u001b[0m\u001b[0;34m\u001b[0m\u001b[0;34m\u001b[0m\u001b[0m\n",
      "\u001b[0;31mIndexError\u001b[0m: list index out of range"
     ]
    }
   ],
   "source": [
    "# Plot all last BO plot\n",
    "# TODO: plot in grid\n",
    "for i, exp in enumerate(exps):\n",
    "    name, last_plot = sorted(get_bo_plots(exp).items())[-1]\n",
    "    last_plot.show()\n",
    "    plt.title(\"Experiment {}:\".format(i))\n"
   ]
  },
  {
   "cell_type": "markdown",
   "metadata": {},
   "source": [
    "## Plot GP final MSE"
   ]
  },
  {
   "cell_type": "code",
   "execution_count": 22,
   "metadata": {},
   "outputs": [
    {
     "data": {
      "text/html": [
       "<div>\n",
       "<style scoped>\n",
       "    .dataframe tbody tr th:only-of-type {\n",
       "        vertical-align: middle;\n",
       "    }\n",
       "\n",
       "    .dataframe tbody tr th {\n",
       "        vertical-align: top;\n",
       "    }\n",
       "\n",
       "    .dataframe thead th {\n",
       "        text-align: right;\n",
       "    }\n",
       "</style>\n",
       "<table border=\"1\" class=\"dataframe\">\n",
       "  <thead>\n",
       "    <tr style=\"text-align: right;\">\n",
       "      <th></th>\n",
       "      <th>count</th>\n",
       "      <th>exps</th>\n",
       "      <th>model</th>\n",
       "      <th>model2</th>\n",
       "      <th>acq</th>\n",
       "      <th>bo</th>\n",
       "      <th>f</th>\n",
       "      <th>config</th>\n",
       "    </tr>\n",
       "  </thead>\n",
       "  <tbody>\n",
       "  </tbody>\n",
       "</table>\n",
       "</div>"
      ],
      "text/plain": [
       "Empty DataFrame\n",
       "Columns: [count, exps, model, model2, acq, bo, f, config]\n",
       "Index: []"
      ]
     },
     "execution_count": 22,
     "metadata": {},
     "output_type": "execute_result"
    }
   ],
   "source": [
    "exps_rows_df = df\n",
    "#exps_rows_df = exps_rows_df.loc[exps_rows_df.bo == False]\n",
    "#exps_rows_df = exps_rows_df[exps_rows_df.f == 'Kink1D']\n",
    "exps_rows_df = exps_rows_df[exps_rows_df.f == 'Kink2D']\n",
    "#exps_rows_df = exps_rows_df[exps_rows_df.f == 'IncreasingOscillationDecreasingAmplitude']\n",
    "#exps_rows_df = exps_rows_df[exps_rows_df.model == 'DKLGPModel']\n",
    "exps_rows_df = exps_rows_df.copy()\n",
    "exps_rows_df"
   ]
  },
  {
   "cell_type": "code",
   "execution_count": 23,
   "metadata": {},
   "outputs": [
    {
     "ename": "KeyError",
     "evalue": "'60519fa6dbfe5a80969a4b30ddd14cafbf68612f'",
     "output_type": "error",
     "traceback": [
      "\u001b[0;31m---------------------------------------------------------------------------\u001b[0m",
      "\u001b[0;31mKeyError\u001b[0m                                  Traceback (most recent call last)",
      "\u001b[0;32m~/anaconda3/envs/lions/lib/python3.6/site-packages/pandas/core/indexes/base.py\u001b[0m in \u001b[0;36mget_loc\u001b[0;34m(self, key, method, tolerance)\u001b[0m\n\u001b[1;32m   2656\u001b[0m             \u001b[0;32mtry\u001b[0m\u001b[0;34m:\u001b[0m\u001b[0;34m\u001b[0m\u001b[0;34m\u001b[0m\u001b[0m\n\u001b[0;32m-> 2657\u001b[0;31m                 \u001b[0;32mreturn\u001b[0m \u001b[0mself\u001b[0m\u001b[0;34m.\u001b[0m\u001b[0m_engine\u001b[0m\u001b[0;34m.\u001b[0m\u001b[0mget_loc\u001b[0m\u001b[0;34m(\u001b[0m\u001b[0mkey\u001b[0m\u001b[0;34m)\u001b[0m\u001b[0;34m\u001b[0m\u001b[0;34m\u001b[0m\u001b[0m\n\u001b[0m\u001b[1;32m   2658\u001b[0m             \u001b[0;32mexcept\u001b[0m \u001b[0mKeyError\u001b[0m\u001b[0;34m:\u001b[0m\u001b[0;34m\u001b[0m\u001b[0;34m\u001b[0m\u001b[0m\n",
      "\u001b[0;32mpandas/_libs/index.pyx\u001b[0m in \u001b[0;36mpandas._libs.index.IndexEngine.get_loc\u001b[0;34m()\u001b[0m\n",
      "\u001b[0;32mpandas/_libs/index.pyx\u001b[0m in \u001b[0;36mpandas._libs.index.IndexEngine.get_loc\u001b[0;34m()\u001b[0m\n",
      "\u001b[0;32mpandas/_libs/hashtable_class_helper.pxi\u001b[0m in \u001b[0;36mpandas._libs.hashtable.PyObjectHashTable.get_item\u001b[0;34m()\u001b[0m\n",
      "\u001b[0;32mpandas/_libs/hashtable_class_helper.pxi\u001b[0m in \u001b[0;36mpandas._libs.hashtable.PyObjectHashTable.get_item\u001b[0;34m()\u001b[0m\n",
      "\u001b[0;31mKeyError\u001b[0m: '60519fa6dbfe5a80969a4b30ddd14cafbf68612f'",
      "\nDuring handling of the above exception, another exception occurred:\n",
      "\u001b[0;31mKeyError\u001b[0m                                  Traceback (most recent call last)",
      "\u001b[0;32m<ipython-input-23-340b101f37c5>\u001b[0m in \u001b[0;36m<module>\u001b[0;34m\u001b[0m\n\u001b[0;32m----> 1\u001b[0;31m \u001b[0mexps_rows_df\u001b[0m\u001b[0;34m.\u001b[0m\u001b[0mloc\u001b[0m\u001b[0;34m[\u001b[0m\u001b[0;34m'60519fa6dbfe5a80969a4b30ddd14cafbf68612f'\u001b[0m\u001b[0;34m]\u001b[0m\u001b[0;34m.\u001b[0m\u001b[0mexps\u001b[0m\u001b[0;34m.\u001b[0m\u001b[0mpop\u001b[0m\u001b[0;34m(\u001b[0m\u001b[0;34m)\u001b[0m\u001b[0;34m\u001b[0m\u001b[0;34m\u001b[0m\u001b[0m\n\u001b[0m\u001b[1;32m      2\u001b[0m \u001b[0mexps_rows_df\u001b[0m\u001b[0;34m.\u001b[0m\u001b[0mloc\u001b[0m\u001b[0;34m[\u001b[0m\u001b[0;34m'60519fa6dbfe5a80969a4b30ddd14cafbf68612f'\u001b[0m\u001b[0;34m]\u001b[0m\u001b[0;34m.\u001b[0m\u001b[0mexps\u001b[0m\u001b[0;34m.\u001b[0m\u001b[0mpop\u001b[0m\u001b[0;34m(\u001b[0m\u001b[0;34m)\u001b[0m\u001b[0;34m\u001b[0m\u001b[0;34m\u001b[0m\u001b[0m\n",
      "\u001b[0;32m~/anaconda3/envs/lions/lib/python3.6/site-packages/pandas/core/indexing.py\u001b[0m in \u001b[0;36m__getitem__\u001b[0;34m(self, key)\u001b[0m\n\u001b[1;32m   1498\u001b[0m \u001b[0;34m\u001b[0m\u001b[0m\n\u001b[1;32m   1499\u001b[0m             \u001b[0mmaybe_callable\u001b[0m \u001b[0;34m=\u001b[0m \u001b[0mcom\u001b[0m\u001b[0;34m.\u001b[0m\u001b[0mapply_if_callable\u001b[0m\u001b[0;34m(\u001b[0m\u001b[0mkey\u001b[0m\u001b[0;34m,\u001b[0m \u001b[0mself\u001b[0m\u001b[0;34m.\u001b[0m\u001b[0mobj\u001b[0m\u001b[0;34m)\u001b[0m\u001b[0;34m\u001b[0m\u001b[0;34m\u001b[0m\u001b[0m\n\u001b[0;32m-> 1500\u001b[0;31m             \u001b[0;32mreturn\u001b[0m \u001b[0mself\u001b[0m\u001b[0;34m.\u001b[0m\u001b[0m_getitem_axis\u001b[0m\u001b[0;34m(\u001b[0m\u001b[0mmaybe_callable\u001b[0m\u001b[0;34m,\u001b[0m \u001b[0maxis\u001b[0m\u001b[0;34m=\u001b[0m\u001b[0maxis\u001b[0m\u001b[0;34m)\u001b[0m\u001b[0;34m\u001b[0m\u001b[0;34m\u001b[0m\u001b[0m\n\u001b[0m\u001b[1;32m   1501\u001b[0m \u001b[0;34m\u001b[0m\u001b[0m\n\u001b[1;32m   1502\u001b[0m     \u001b[0;32mdef\u001b[0m \u001b[0m_is_scalar_access\u001b[0m\u001b[0;34m(\u001b[0m\u001b[0mself\u001b[0m\u001b[0;34m,\u001b[0m \u001b[0mkey\u001b[0m\u001b[0;34m)\u001b[0m\u001b[0;34m:\u001b[0m\u001b[0;34m\u001b[0m\u001b[0;34m\u001b[0m\u001b[0m\n",
      "\u001b[0;32m~/anaconda3/envs/lions/lib/python3.6/site-packages/pandas/core/indexing.py\u001b[0m in \u001b[0;36m_getitem_axis\u001b[0;34m(self, key, axis)\u001b[0m\n\u001b[1;32m   1911\u001b[0m         \u001b[0;31m# fall thru to straight lookup\u001b[0m\u001b[0;34m\u001b[0m\u001b[0;34m\u001b[0m\u001b[0;34m\u001b[0m\u001b[0m\n\u001b[1;32m   1912\u001b[0m         \u001b[0mself\u001b[0m\u001b[0;34m.\u001b[0m\u001b[0m_validate_key\u001b[0m\u001b[0;34m(\u001b[0m\u001b[0mkey\u001b[0m\u001b[0;34m,\u001b[0m \u001b[0maxis\u001b[0m\u001b[0;34m)\u001b[0m\u001b[0;34m\u001b[0m\u001b[0;34m\u001b[0m\u001b[0m\n\u001b[0;32m-> 1913\u001b[0;31m         \u001b[0;32mreturn\u001b[0m \u001b[0mself\u001b[0m\u001b[0;34m.\u001b[0m\u001b[0m_get_label\u001b[0m\u001b[0;34m(\u001b[0m\u001b[0mkey\u001b[0m\u001b[0;34m,\u001b[0m \u001b[0maxis\u001b[0m\u001b[0;34m=\u001b[0m\u001b[0maxis\u001b[0m\u001b[0;34m)\u001b[0m\u001b[0;34m\u001b[0m\u001b[0;34m\u001b[0m\u001b[0m\n\u001b[0m\u001b[1;32m   1914\u001b[0m \u001b[0;34m\u001b[0m\u001b[0m\n\u001b[1;32m   1915\u001b[0m \u001b[0;34m\u001b[0m\u001b[0m\n",
      "\u001b[0;32m~/anaconda3/envs/lions/lib/python3.6/site-packages/pandas/core/indexing.py\u001b[0m in \u001b[0;36m_get_label\u001b[0;34m(self, label, axis)\u001b[0m\n\u001b[1;32m    139\u001b[0m             \u001b[0;32mraise\u001b[0m \u001b[0mIndexingError\u001b[0m\u001b[0;34m(\u001b[0m\u001b[0;34m'no slices here, handle elsewhere'\u001b[0m\u001b[0;34m)\u001b[0m\u001b[0;34m\u001b[0m\u001b[0;34m\u001b[0m\u001b[0m\n\u001b[1;32m    140\u001b[0m \u001b[0;34m\u001b[0m\u001b[0m\n\u001b[0;32m--> 141\u001b[0;31m         \u001b[0;32mreturn\u001b[0m \u001b[0mself\u001b[0m\u001b[0;34m.\u001b[0m\u001b[0mobj\u001b[0m\u001b[0;34m.\u001b[0m\u001b[0m_xs\u001b[0m\u001b[0;34m(\u001b[0m\u001b[0mlabel\u001b[0m\u001b[0;34m,\u001b[0m \u001b[0maxis\u001b[0m\u001b[0;34m=\u001b[0m\u001b[0maxis\u001b[0m\u001b[0;34m)\u001b[0m\u001b[0;34m\u001b[0m\u001b[0;34m\u001b[0m\u001b[0m\n\u001b[0m\u001b[1;32m    142\u001b[0m \u001b[0;34m\u001b[0m\u001b[0m\n\u001b[1;32m    143\u001b[0m     \u001b[0;32mdef\u001b[0m \u001b[0m_get_loc\u001b[0m\u001b[0;34m(\u001b[0m\u001b[0mself\u001b[0m\u001b[0;34m,\u001b[0m \u001b[0mkey\u001b[0m\u001b[0;34m,\u001b[0m \u001b[0maxis\u001b[0m\u001b[0;34m=\u001b[0m\u001b[0;32mNone\u001b[0m\u001b[0;34m)\u001b[0m\u001b[0;34m:\u001b[0m\u001b[0;34m\u001b[0m\u001b[0;34m\u001b[0m\u001b[0m\n",
      "\u001b[0;32m~/anaconda3/envs/lions/lib/python3.6/site-packages/pandas/core/generic.py\u001b[0m in \u001b[0;36mxs\u001b[0;34m(self, key, axis, level, drop_level)\u001b[0m\n\u001b[1;32m   3583\u001b[0m                                                       drop_level=drop_level)\n\u001b[1;32m   3584\u001b[0m         \u001b[0;32melse\u001b[0m\u001b[0;34m:\u001b[0m\u001b[0;34m\u001b[0m\u001b[0;34m\u001b[0m\u001b[0m\n\u001b[0;32m-> 3585\u001b[0;31m             \u001b[0mloc\u001b[0m \u001b[0;34m=\u001b[0m \u001b[0mself\u001b[0m\u001b[0;34m.\u001b[0m\u001b[0mindex\u001b[0m\u001b[0;34m.\u001b[0m\u001b[0mget_loc\u001b[0m\u001b[0;34m(\u001b[0m\u001b[0mkey\u001b[0m\u001b[0;34m)\u001b[0m\u001b[0;34m\u001b[0m\u001b[0;34m\u001b[0m\u001b[0m\n\u001b[0m\u001b[1;32m   3586\u001b[0m \u001b[0;34m\u001b[0m\u001b[0m\n\u001b[1;32m   3587\u001b[0m             \u001b[0;32mif\u001b[0m \u001b[0misinstance\u001b[0m\u001b[0;34m(\u001b[0m\u001b[0mloc\u001b[0m\u001b[0;34m,\u001b[0m \u001b[0mnp\u001b[0m\u001b[0;34m.\u001b[0m\u001b[0mndarray\u001b[0m\u001b[0;34m)\u001b[0m\u001b[0;34m:\u001b[0m\u001b[0;34m\u001b[0m\u001b[0;34m\u001b[0m\u001b[0m\n",
      "\u001b[0;32m~/anaconda3/envs/lions/lib/python3.6/site-packages/pandas/core/indexes/base.py\u001b[0m in \u001b[0;36mget_loc\u001b[0;34m(self, key, method, tolerance)\u001b[0m\n\u001b[1;32m   2657\u001b[0m                 \u001b[0;32mreturn\u001b[0m \u001b[0mself\u001b[0m\u001b[0;34m.\u001b[0m\u001b[0m_engine\u001b[0m\u001b[0;34m.\u001b[0m\u001b[0mget_loc\u001b[0m\u001b[0;34m(\u001b[0m\u001b[0mkey\u001b[0m\u001b[0;34m)\u001b[0m\u001b[0;34m\u001b[0m\u001b[0;34m\u001b[0m\u001b[0m\n\u001b[1;32m   2658\u001b[0m             \u001b[0;32mexcept\u001b[0m \u001b[0mKeyError\u001b[0m\u001b[0;34m:\u001b[0m\u001b[0;34m\u001b[0m\u001b[0;34m\u001b[0m\u001b[0m\n\u001b[0;32m-> 2659\u001b[0;31m                 \u001b[0;32mreturn\u001b[0m \u001b[0mself\u001b[0m\u001b[0;34m.\u001b[0m\u001b[0m_engine\u001b[0m\u001b[0;34m.\u001b[0m\u001b[0mget_loc\u001b[0m\u001b[0;34m(\u001b[0m\u001b[0mself\u001b[0m\u001b[0;34m.\u001b[0m\u001b[0m_maybe_cast_indexer\u001b[0m\u001b[0;34m(\u001b[0m\u001b[0mkey\u001b[0m\u001b[0;34m)\u001b[0m\u001b[0;34m)\u001b[0m\u001b[0;34m\u001b[0m\u001b[0;34m\u001b[0m\u001b[0m\n\u001b[0m\u001b[1;32m   2660\u001b[0m         \u001b[0mindexer\u001b[0m \u001b[0;34m=\u001b[0m \u001b[0mself\u001b[0m\u001b[0;34m.\u001b[0m\u001b[0mget_indexer\u001b[0m\u001b[0;34m(\u001b[0m\u001b[0;34m[\u001b[0m\u001b[0mkey\u001b[0m\u001b[0;34m]\u001b[0m\u001b[0;34m,\u001b[0m \u001b[0mmethod\u001b[0m\u001b[0;34m=\u001b[0m\u001b[0mmethod\u001b[0m\u001b[0;34m,\u001b[0m \u001b[0mtolerance\u001b[0m\u001b[0;34m=\u001b[0m\u001b[0mtolerance\u001b[0m\u001b[0;34m)\u001b[0m\u001b[0;34m\u001b[0m\u001b[0;34m\u001b[0m\u001b[0m\n\u001b[1;32m   2661\u001b[0m         \u001b[0;32mif\u001b[0m \u001b[0mindexer\u001b[0m\u001b[0;34m.\u001b[0m\u001b[0mndim\u001b[0m \u001b[0;34m>\u001b[0m \u001b[0;36m1\u001b[0m \u001b[0;32mor\u001b[0m \u001b[0mindexer\u001b[0m\u001b[0;34m.\u001b[0m\u001b[0msize\u001b[0m \u001b[0;34m>\u001b[0m \u001b[0;36m1\u001b[0m\u001b[0;34m:\u001b[0m\u001b[0;34m\u001b[0m\u001b[0;34m\u001b[0m\u001b[0m\n",
      "\u001b[0;32mpandas/_libs/index.pyx\u001b[0m in \u001b[0;36mpandas._libs.index.IndexEngine.get_loc\u001b[0;34m()\u001b[0m\n",
      "\u001b[0;32mpandas/_libs/index.pyx\u001b[0m in \u001b[0;36mpandas._libs.index.IndexEngine.get_loc\u001b[0;34m()\u001b[0m\n",
      "\u001b[0;32mpandas/_libs/hashtable_class_helper.pxi\u001b[0m in \u001b[0;36mpandas._libs.hashtable.PyObjectHashTable.get_item\u001b[0;34m()\u001b[0m\n",
      "\u001b[0;32mpandas/_libs/hashtable_class_helper.pxi\u001b[0m in \u001b[0;36mpandas._libs.hashtable.PyObjectHashTable.get_item\u001b[0;34m()\u001b[0m\n",
      "\u001b[0;31mKeyError\u001b[0m: '60519fa6dbfe5a80969a4b30ddd14cafbf68612f'"
     ]
    }
   ],
   "source": [
    "exps_rows_df.loc['60519fa6dbfe5a80969a4b30ddd14cafbf68612f'].exps.pop()\n",
    "exps_rows_df.loc['60519fa6dbfe5a80969a4b30ddd14cafbf68612f'].exps.pop()"
   ]
  },
  {
   "cell_type": "code",
   "execution_count": 928,
   "metadata": {},
   "outputs": [
    {
     "data": {
      "text/html": [
       "<div>\n",
       "<style scoped>\n",
       "    .dataframe tbody tr th:only-of-type {\n",
       "        vertical-align: middle;\n",
       "    }\n",
       "\n",
       "    .dataframe tbody tr th {\n",
       "        vertical-align: top;\n",
       "    }\n",
       "\n",
       "    .dataframe thead th {\n",
       "        text-align: right;\n",
       "    }\n",
       "</style>\n",
       "<table border=\"1\" class=\"dataframe\">\n",
       "  <thead>\n",
       "    <tr style=\"text-align: right;\">\n",
       "      <th></th>\n",
       "      <th>count</th>\n",
       "      <th>exps</th>\n",
       "      <th>model</th>\n",
       "      <th>model2</th>\n",
       "      <th>acq</th>\n",
       "      <th>bo</th>\n",
       "      <th>f</th>\n",
       "      <th>config</th>\n",
       "      <th>rmse</th>\n",
       "      <th>rmse_mean</th>\n",
       "      <th>rmse_var</th>\n",
       "    </tr>\n",
       "    <tr>\n",
       "      <th>name</th>\n",
       "      <th></th>\n",
       "      <th></th>\n",
       "      <th></th>\n",
       "      <th></th>\n",
       "      <th></th>\n",
       "      <th></th>\n",
       "      <th></th>\n",
       "      <th></th>\n",
       "      <th></th>\n",
       "      <th></th>\n",
       "      <th></th>\n",
       "    </tr>\n",
       "  </thead>\n",
       "  <tbody>\n",
       "    <tr>\n",
       "      <th>GPModel BO CurvatureAcquisition Kink2D</th>\n",
       "      <td>2</td>\n",
       "      <td>[Experiment(id=68, name=lions), Experiment(id=...</td>\n",
       "      <td>GPModel</td>\n",
       "      <td>None</td>\n",
       "      <td>CurvatureAcquisition</td>\n",
       "      <td>True</td>\n",
       "      <td>Kink2D</td>\n",
       "      <td>{'acquisition_function': {'name': 'CurvatureAc...</td>\n",
       "      <td>[63.78118408433784, 75.85735525277758]</td>\n",
       "      <td>69.819270</td>\n",
       "      <td>36.458478</td>\n",
       "    </tr>\n",
       "    <tr>\n",
       "      <th>GPModel Kink2D</th>\n",
       "      <td>5</td>\n",
       "      <td>[Experiment(id=32, name=lions), Experiment(id=...</td>\n",
       "      <td>GPModel</td>\n",
       "      <td>None</td>\n",
       "      <td>None</td>\n",
       "      <td>False</td>\n",
       "      <td>Kink2D</td>\n",
       "      <td>{'exp_hash': 'bcc45c47bfbf213bbd3fc2342f230019...</td>\n",
       "      <td>[54.57754611235148, 60.59713419639089, 75.9411...</td>\n",
       "      <td>60.080682</td>\n",
       "      <td>68.336693</td>\n",
       "    </tr>\n",
       "    <tr>\n",
       "      <th>GPModel BO QuadratureAcquisition Kink2D</th>\n",
       "      <td>1</td>\n",
       "      <td>[Experiment(id=70, name=lions)]</td>\n",
       "      <td>GPModel</td>\n",
       "      <td>None</td>\n",
       "      <td>QuadratureAcquisition</td>\n",
       "      <td>True</td>\n",
       "      <td>Kink2D</td>\n",
       "      <td>{'acquisition_function': {'name': 'QuadratureA...</td>\n",
       "      <td>[75.40778273763367]</td>\n",
       "      <td>75.407783</td>\n",
       "      <td>0.000000</td>\n",
       "    </tr>\n",
       "  </tbody>\n",
       "</table>\n",
       "</div>"
      ],
      "text/plain": [
       "                                         count  \\\n",
       "name                                             \n",
       "GPModel BO CurvatureAcquisition Kink2D       2   \n",
       "GPModel Kink2D                               5   \n",
       "GPModel BO QuadratureAcquisition Kink2D      1   \n",
       "\n",
       "                                                                                      exps  \\\n",
       "name                                                                                         \n",
       "GPModel BO CurvatureAcquisition Kink2D   [Experiment(id=68, name=lions), Experiment(id=...   \n",
       "GPModel Kink2D                           [Experiment(id=32, name=lions), Experiment(id=...   \n",
       "GPModel BO QuadratureAcquisition Kink2D                    [Experiment(id=70, name=lions)]   \n",
       "\n",
       "                                           model model2  \\\n",
       "name                                                      \n",
       "GPModel BO CurvatureAcquisition Kink2D   GPModel   None   \n",
       "GPModel Kink2D                           GPModel   None   \n",
       "GPModel BO QuadratureAcquisition Kink2D  GPModel   None   \n",
       "\n",
       "                                                           acq     bo       f  \\\n",
       "name                                                                            \n",
       "GPModel BO CurvatureAcquisition Kink2D    CurvatureAcquisition   True  Kink2D   \n",
       "GPModel Kink2D                                            None  False  Kink2D   \n",
       "GPModel BO QuadratureAcquisition Kink2D  QuadratureAcquisition   True  Kink2D   \n",
       "\n",
       "                                                                                    config  \\\n",
       "name                                                                                         \n",
       "GPModel BO CurvatureAcquisition Kink2D   {'acquisition_function': {'name': 'CurvatureAc...   \n",
       "GPModel Kink2D                           {'exp_hash': 'bcc45c47bfbf213bbd3fc2342f230019...   \n",
       "GPModel BO QuadratureAcquisition Kink2D  {'acquisition_function': {'name': 'QuadratureA...   \n",
       "\n",
       "                                                                                      rmse  \\\n",
       "name                                                                                         \n",
       "GPModel BO CurvatureAcquisition Kink2D              [63.78118408433784, 75.85735525277758]   \n",
       "GPModel Kink2D                           [54.57754611235148, 60.59713419639089, 75.9411...   \n",
       "GPModel BO QuadratureAcquisition Kink2D                                [75.40778273763367]   \n",
       "\n",
       "                                         rmse_mean   rmse_var  \n",
       "name                                                           \n",
       "GPModel BO CurvatureAcquisition Kink2D   69.819270  36.458478  \n",
       "GPModel Kink2D                           60.080682  68.336693  \n",
       "GPModel BO QuadratureAcquisition Kink2D  75.407783   0.000000  "
      ]
     },
     "execution_count": 928,
     "metadata": {},
     "output_type": "execute_result"
    }
   ],
   "source": [
    "# Stats on result\n",
    "exps_rows_df['rmse'] = exps_rows_df.apply(lambda row: np.array([e.result for e in row.exps], dtype=np.float), axis=1)\n",
    "exps_rows_df['rmse_mean'] = exps_rows_df.apply(lambda row: np.nanmean(row.rmse), axis=1)\n",
    "exps_rows_df['rmse_var'] = exps_rows_df.apply(lambda row: np.nanvar(row.rmse), axis=1)\n",
    "\n",
    "# Create short hand name for convinience\n",
    "def get_name(row):\n",
    "    name = row.model\n",
    "    if row.bo: \n",
    "        name = name + \" BO\"\n",
    "    if row.acq is not None: \n",
    "        name = name + \" \" + row.acq\n",
    "    name = name + \" \" + row.f\n",
    "    return name\n",
    "\n",
    "exps_rows_df['name'] = exps_rows_df.apply(get_name, axis=1)\n",
    "exps_rows_df = exps_rows_df.set_index('name')\n",
    "\n",
    "exps_rows_df"
   ]
  },
  {
   "cell_type": "code",
   "execution_count": 929,
   "metadata": {
    "scrolled": false
   },
   "outputs": [
    {
     "data": {
      "text/plain": [
       "<matplotlib.axes._subplots.AxesSubplot at 0x130c0ebe0>"
      ]
     },
     "execution_count": 929,
     "metadata": {},
     "output_type": "execute_result"
    },
    {
     "data": {
      "image/png": "[encoded data removed]",
      "text/plain": [
       "<Figure size 432x288 with 1 Axes>"
      ]
     },
     "metadata": {
      "needs_background": "light"
     },
     "output_type": "display_data"
    }
   ],
   "source": [
    "# Plot result (MSE) boxes!\n",
    "exps_rows_df['rmse'].apply(lambda x: pd.Series(x)).T.boxplot(rot=45)"
   ]
  },
  {
   "cell_type": "code",
   "execution_count": 930,
   "metadata": {},
   "outputs": [
    {
     "data": {
      "image/png": "[encoded data removed]",
      "text/plain": [
       "<Figure size 432x288 with 1 Axes>"
      ]
     },
     "metadata": {
      "needs_background": "light"
     },
     "output_type": "display_data"
    }
   ],
   "source": [
    "plt.title('RMSE')\n",
    "\n",
    "for idx, row in exps_rows_df.iterrows():\n",
    "    exps = row.exps\n",
    "    plot_bo_regret(exps, label=row.name)\n",
    "\n",
    "plt.legend()\n",
    "plt.show()"
   ]
  },
  {
   "cell_type": "markdown",
   "metadata": {},
   "source": [
    "# (Temporary) Dumbster for scripting..."
   ]
  },
  {
   "cell_type": "code",
   "execution_count": 852,
   "metadata": {},
   "outputs": [
    {
     "data": {
      "text/plain": [
       "(5, 2, 2)"
      ]
     },
     "execution_count": 852,
     "metadata": {},
     "output_type": "execute_result"
    }
   ],
   "source": [
    "import numpy as np\n",
    "\n",
    "D = 2\n",
    "N_new = 5\n",
    "N = 10\n",
    "\n",
    "A = np.ones((N,D,D))\n",
    "B = np.ones((N, N_new))\n",
    "C = np.tensordot(B, A, axes=(0,0))\n",
    "C.shape"
   ]
  },
  {
   "cell_type": "code",
   "execution_count": 699,
   "metadata": {},
   "outputs": [
    {
     "name": "stderr",
     "output_type": "stream",
     "text": [
      "/Users/tmpethick/anaconda3/envs/lions/lib/python3.6/site-packages/pandas/core/generic.py:5096: SettingWithCopyWarning: \n",
      "A value is trying to be set on a copy of a slice from a DataFrame\n",
      "\n",
      "See the caveats in the documentation: http://pandas.pydata.org/pandas-docs/stable/indexing.html#indexing-view-versus-copy\n",
      "  self[name] = value\n"
     ]
    }
   ],
   "source": []
  },
  {
   "cell_type": "code",
   "execution_count": 684,
   "metadata": {},
   "outputs": [
    {
     "ename": "TypeError",
     "evalue": "Cannot index by location index with a non-integer key",
     "output_type": "error",
     "traceback": [
      "\u001b[0;31m---------------------------------------------------------------------------\u001b[0m",
      "\u001b[0;31mTypeError\u001b[0m                                 Traceback (most recent call last)",
      "\u001b[0;32m<ipython-input-684-cf0807a4412c>\u001b[0m in \u001b[0;36m<module>\u001b[0;34m\u001b[0m\n\u001b[1;32m      1\u001b[0m \u001b[0;31m# Dirty hack to filter out last experiment of curvature\u001b[0m\u001b[0;34m\u001b[0m\u001b[0;34m\u001b[0m\u001b[0;34m\u001b[0m\u001b[0m\n\u001b[0;32m----> 2\u001b[0;31m \u001b[0mexps_rows_df\u001b[0m\u001b[0;34m.\u001b[0m\u001b[0mexps\u001b[0m\u001b[0;34m.\u001b[0m\u001b[0miloc\u001b[0m\u001b[0;34m[\u001b[0m\u001b[0;34m'60519fa6dbfe5a80969a4b30ddd14cafbf68612f'\u001b[0m\u001b[0;34m]\u001b[0m \u001b[0;34m=\u001b[0m \u001b[0mexps_rows_df\u001b[0m\u001b[0;34m.\u001b[0m\u001b[0mexps\u001b[0m\u001b[0;34m.\u001b[0m\u001b[0miloc\u001b[0m\u001b[0;34m[\u001b[0m\u001b[0;34m'60519fa6dbfe5a80969a4b30ddd14cafbf68612f'\u001b[0m\u001b[0;34m]\u001b[0m\u001b[0;34m[\u001b[0m\u001b[0;34m:\u001b[0m\u001b[0;34m-\u001b[0m\u001b[0;36m1\u001b[0m\u001b[0;34m]\u001b[0m\u001b[0;34m\u001b[0m\u001b[0;34m\u001b[0m\u001b[0m\n\u001b[0m",
      "\u001b[0;32m~/anaconda3/envs/lions/lib/python3.6/site-packages/pandas/core/indexing.py\u001b[0m in \u001b[0;36m__getitem__\u001b[0;34m(self, key)\u001b[0m\n\u001b[1;32m   1498\u001b[0m \u001b[0;34m\u001b[0m\u001b[0m\n\u001b[1;32m   1499\u001b[0m             \u001b[0mmaybe_callable\u001b[0m \u001b[0;34m=\u001b[0m \u001b[0mcom\u001b[0m\u001b[0;34m.\u001b[0m\u001b[0mapply_if_callable\u001b[0m\u001b[0;34m(\u001b[0m\u001b[0mkey\u001b[0m\u001b[0;34m,\u001b[0m \u001b[0mself\u001b[0m\u001b[0;34m.\u001b[0m\u001b[0mobj\u001b[0m\u001b[0;34m)\u001b[0m\u001b[0;34m\u001b[0m\u001b[0;34m\u001b[0m\u001b[0m\n\u001b[0;32m-> 1500\u001b[0;31m             \u001b[0;32mreturn\u001b[0m \u001b[0mself\u001b[0m\u001b[0;34m.\u001b[0m\u001b[0m_getitem_axis\u001b[0m\u001b[0;34m(\u001b[0m\u001b[0mmaybe_callable\u001b[0m\u001b[0;34m,\u001b[0m \u001b[0maxis\u001b[0m\u001b[0;34m=\u001b[0m\u001b[0maxis\u001b[0m\u001b[0;34m)\u001b[0m\u001b[0;34m\u001b[0m\u001b[0;34m\u001b[0m\u001b[0m\n\u001b[0m\u001b[1;32m   1501\u001b[0m \u001b[0;34m\u001b[0m\u001b[0m\n\u001b[1;32m   1502\u001b[0m     \u001b[0;32mdef\u001b[0m \u001b[0m_is_scalar_access\u001b[0m\u001b[0;34m(\u001b[0m\u001b[0mself\u001b[0m\u001b[0;34m,\u001b[0m \u001b[0mkey\u001b[0m\u001b[0;34m)\u001b[0m\u001b[0;34m:\u001b[0m\u001b[0;34m\u001b[0m\u001b[0;34m\u001b[0m\u001b[0m\n",
      "\u001b[0;32m~/anaconda3/envs/lions/lib/python3.6/site-packages/pandas/core/indexing.py\u001b[0m in \u001b[0;36m_getitem_axis\u001b[0;34m(self, key, axis)\u001b[0m\n\u001b[1;32m   2224\u001b[0m         \u001b[0;32melse\u001b[0m\u001b[0;34m:\u001b[0m\u001b[0;34m\u001b[0m\u001b[0;34m\u001b[0m\u001b[0m\n\u001b[1;32m   2225\u001b[0m             \u001b[0;32mif\u001b[0m \u001b[0;32mnot\u001b[0m \u001b[0mis_integer\u001b[0m\u001b[0;34m(\u001b[0m\u001b[0mkey\u001b[0m\u001b[0;34m)\u001b[0m\u001b[0;34m:\u001b[0m\u001b[0;34m\u001b[0m\u001b[0;34m\u001b[0m\u001b[0m\n\u001b[0;32m-> 2226\u001b[0;31m                 raise TypeError(\"Cannot index by location index with a \"\n\u001b[0m\u001b[1;32m   2227\u001b[0m                                 \"non-integer key\")\n\u001b[1;32m   2228\u001b[0m \u001b[0;34m\u001b[0m\u001b[0m\n",
      "\u001b[0;31mTypeError\u001b[0m: Cannot index by location index with a non-integer key"
     ]
    }
   ],
   "source": [
    "# Dirty hack to filter out last experiment of curvature\n",
    "exps_rows_df.exps.iloc['60519fa6dbfe5a80969a4b30ddd14cafbf68612f'] = exps_rows_df.exps.iloc['60519fa6dbfe5a80969a4b30ddd14cafbf68612f'][:-1]"
   ]
  },
  {
   "cell_type": "code",
   "execution_count": 543,
   "metadata": {},
   "outputs": [
    {
     "data": {
      "text/plain": [
       "array([[[10., 10.],\n",
       "        [10., 10.]],\n",
       "\n",
       "       [[10., 10.],\n",
       "        [10., 10.]],\n",
       "\n",
       "       [[10., 10.],\n",
       "        [10., 10.]],\n",
       "\n",
       "       [[10., 10.],\n",
       "        [10., 10.]],\n",
       "\n",
       "       [[10., 10.],\n",
       "        [10., 10.]]])"
      ]
     },
     "execution_count": 543,
     "metadata": {},
     "output_type": "execute_result"
    }
   ],
   "source": [
    "Lambda = np.identity(D)\n",
    "(Lambda @ C)"
   ]
  },
  {
   "cell_type": "code",
   "execution_count": 558,
   "metadata": {},
   "outputs": [
    {
     "data": {
      "text/plain": [
       "array([[[ 0,  0],\n",
       "        [-2, -2],\n",
       "        [-4, -4]],\n",
       "\n",
       "       [[ 2,  2],\n",
       "        [ 0,  0],\n",
       "        [-2, -2]]])"
      ]
     },
     "execution_count": 558,
     "metadata": {},
     "output_type": "execute_result"
    }
   ],
   "source": [
    "N = 2\n",
    "D = 2\n",
    "N_new = 3\n",
    "A = np.arange(N * D).reshape(N, D)\n",
    "B = np.arange(N_new * D).reshape(N_new, D)\n",
    "\n",
    "(A[:, None, :] - B[None, :, :])"
   ]
  },
  {
   "cell_type": "code",
   "execution_count": 523,
   "metadata": {},
   "outputs": [
    {
     "data": {
      "text/plain": [
       "(5, 10, 2)"
      ]
     },
     "execution_count": 523,
     "metadata": {},
     "output_type": "execute_result"
    }
   ],
   "source": [
    "X_new = np.arange(5 * 2).reshape((5, 2))\n",
    "X = np.arange(10 * 2).reshape((10, 2))\n",
    "\n",
    "np.einsum('ik,jk->ijk', X_new, -X).shape"
   ]
  },
  {
   "cell_type": "code",
   "execution_count": 538,
   "metadata": {},
   "outputs": [
    {
     "data": {
      "text/plain": [
       "array([ 0.,  5., 10., 15., 20.])"
      ]
     },
     "execution_count": 538,
     "metadata": {},
     "output_type": "execute_result"
    }
   ],
   "source": [
    "X = np.arange(5)\n",
    "La = np.ones(5 * 5).reshape((5, 5))\n",
    "np.einsum(\"ij,i->i\", La, X)"
   ]
  },
  {
   "cell_type": "code",
   "execution_count": 527,
   "metadata": {
    "scrolled": false
   },
   "outputs": [
    {
     "data": {
      "text/plain": [
       "array([[5., 5.],\n",
       "       [5., 5.],\n",
       "       [5., 5.],\n",
       "       [5., 5.],\n",
       "       [5., 5.],\n",
       "       [5., 5.],\n",
       "       [5., 5.],\n",
       "       [5., 5.],\n",
       "       [5., 5.],\n",
       "       [5., 5.]])"
      ]
     },
     "execution_count": 527,
     "metadata": {},
     "output_type": "execute_result"
    }
   ],
   "source": [
    "# Summing a and b\n",
    "k_Xx = np.ones((N_new, N, D))\n",
    "Ones = np.ones((N_new, N, D, D))\n",
    "alpha = np.ones((N, 1))\n",
    "\n",
    "np.einsum(\"ijkl,ijk->ikl\", Ones, k_Xx * alpha)\n",
    "np.einsum(\"jik,jik->ik\", k_Xx, k_Xx)"
   ]
  },
  {
   "cell_type": "markdown",
   "metadata": {},
   "source": [
    "# Single experiment explorer"
   ]
  },
  {
   "cell_type": "code",
   "execution_count": 872,
   "metadata": {},
   "outputs": [],
   "source": [
    "# Find the latest (using internal api of loader...)\n",
    "exp = loader._runs.find().sort([('timestamp', -1)]).limit(1)[0]\n",
    "exp = loader._make_experiment(exp)"
   ]
  },
  {
   "cell_type": "code",
   "execution_count": 873,
   "metadata": {},
   "outputs": [
    {
     "data": {
      "text/plain": [
       "Experiment(id=1, name=lions)"
      ]
     },
     "execution_count": 873,
     "metadata": {},
     "output_type": "execute_result"
    }
   ],
   "source": [
    "exp"
   ]
  },
  {
   "cell_type": "code",
   "execution_count": 874,
   "metadata": {},
   "outputs": [
    {
     "ename": "KeyError",
     "evalue": "'X.npy'",
     "output_type": "error",
     "traceback": [
      "\u001b[0;31m---------------------------------------------------------------------------\u001b[0m",
      "\u001b[0;31mKeyError\u001b[0m                                  Traceback (most recent call last)",
      "\u001b[0;32m<ipython-input-874-d17d216e378c>\u001b[0m in \u001b[0;36m<module>\u001b[0;34m\u001b[0m\n\u001b[1;32m      4\u001b[0m     \u001b[0;32mreturn\u001b[0m \u001b[0mnp\u001b[0m\u001b[0;34m.\u001b[0m\u001b[0mload\u001b[0m\u001b[0;34m(\u001b[0m\u001b[0martifact\u001b[0m\u001b[0;34m.\u001b[0m\u001b[0mfile\u001b[0m\u001b[0;34m)\u001b[0m\u001b[0;34m\u001b[0m\u001b[0;34m\u001b[0m\u001b[0m\n\u001b[1;32m      5\u001b[0m \u001b[0;34m\u001b[0m\u001b[0m\n\u001b[0;32m----> 6\u001b[0;31m \u001b[0mX\u001b[0m \u001b[0;34m=\u001b[0m \u001b[0martifact_to_numpy\u001b[0m\u001b[0;34m(\u001b[0m\u001b[0mexp\u001b[0m\u001b[0;34m.\u001b[0m\u001b[0martifacts\u001b[0m\u001b[0;34m[\u001b[0m\u001b[0;34m'X.npy'\u001b[0m\u001b[0;34m]\u001b[0m\u001b[0;34m)\u001b[0m\u001b[0;34m\u001b[0m\u001b[0;34m\u001b[0m\u001b[0m\n\u001b[0m\u001b[1;32m      7\u001b[0m \u001b[0mY\u001b[0m \u001b[0;34m=\u001b[0m \u001b[0martifact_to_numpy\u001b[0m\u001b[0;34m(\u001b[0m\u001b[0mexp\u001b[0m\u001b[0;34m.\u001b[0m\u001b[0martifacts\u001b[0m\u001b[0;34m[\u001b[0m\u001b[0;34m'Y.npy'\u001b[0m\u001b[0;34m]\u001b[0m\u001b[0;34m)\u001b[0m\u001b[0;34m\u001b[0m\u001b[0;34m\u001b[0m\u001b[0m\n\u001b[1;32m      8\u001b[0m \u001b[0;34m\u001b[0m\u001b[0m\n",
      "\u001b[0;31mKeyError\u001b[0m: 'X.npy'"
     ]
    }
   ],
   "source": [
    "#exp = loader.find_by_id(-1)\n",
    "\n",
    "def artifact_to_numpy(artifact):\n",
    "    return np.load(artifact.file)\n",
    "\n",
    "X = artifact_to_numpy(exp.artifacts['X.npy'])\n",
    "Y = artifact_to_numpy(exp.artifacts['Y.npy'])\n",
    "\n",
    "bo_plots_dict = get_bo_plots(exp)\n",
    "bo_plots = [bo_plots_dict[k] for k in sorted(bo_plots_dict.keys())]"
   ]
  },
  {
   "cell_type": "code",
   "execution_count": 875,
   "metadata": {},
   "outputs": [
    {
     "data": {
      "application/vnd.jupyter.widget-view+json": {
       "model_id": "877e30596ab54a2387189f541af70337",
       "version_major": 2,
       "version_minor": 0
      },
      "text/plain": [
       "interactive(children=(IntSlider(value=0, description='i', max=1), Output()), _dom_classes=('widget-interact',)…"
      ]
     },
     "metadata": {},
     "output_type": "display_data"
    }
   ],
   "source": [
    "from __future__ import print_function\n",
    "from ipywidgets import interact, interactive, fixed, interact_manual\n",
    "import ipywidgets as widgets\n",
    "\n",
    "@interact(i=(0, len(bo_plots)-1))\n",
    "def show_bo_plot(i):\n",
    "    bo_plots[i].show()"
   ]
  },
  {
   "cell_type": "code",
   "execution_count": 877,
   "metadata": {
    "scrolled": false
   },
   "outputs": [
    {
     "ename": "KeyError",
     "evalue": "'rmse'",
     "output_type": "error",
     "traceback": [
      "\u001b[0;31m---------------------------------------------------------------------------\u001b[0m",
      "\u001b[0;31mKeyError\u001b[0m                                  Traceback (most recent call last)",
      "\u001b[0;32m<ipython-input-877-37cd8f573fc9>\u001b[0m in \u001b[0;36m<module>\u001b[0;34m\u001b[0m\n\u001b[0;32m----> 1\u001b[0;31m \u001b[0mexp\u001b[0m\u001b[0;34m.\u001b[0m\u001b[0mmetrics\u001b[0m\u001b[0;34m[\u001b[0m\u001b[0;34m'rmse'\u001b[0m\u001b[0;34m]\u001b[0m\u001b[0;34m.\u001b[0m\u001b[0mplot\u001b[0m\u001b[0;34m(\u001b[0m\u001b[0;34m)\u001b[0m\u001b[0;34m\u001b[0m\u001b[0;34m\u001b[0m\u001b[0m\n\u001b[0m",
      "\u001b[0;31mKeyError\u001b[0m: 'rmse'"
     ]
    }
   ],
   "source": [
    "exp.metrics['rmse'].plot()"
   ]
  },
  {
   "cell_type": "markdown",
   "metadata": {},
   "source": [
    "## Reconstruct model"
   ]
  },
  {
   "cell_type": "code",
   "execution_count": null,
   "metadata": {},
   "outputs": [],
   "source": [
    "# TODO:\n",
    "# runner (in reconstruction mode)\n",
    "# refit model"
   ]
  },
  {
   "cell_type": "markdown",
   "metadata": {},
   "source": [
    "# Dangour Zone! (Used to clean mongodb)"
   ]
  },
  {
   "cell_type": "code",
   "execution_count": 32,
   "metadata": {},
   "outputs": [],
   "source": [
    "for exp in loader.find({}):\n",
    "    exp.delete()#confirmed=True)"
   ]
  },
  {
   "cell_type": "code",
   "execution_count": null,
   "metadata": {},
   "outputs": [],
   "source": []
  }
 ],
 "metadata": {
  "kernelspec": {
   "display_name": "Python 3",
   "language": "python",
   "name": "python3"
  },
  "language_info": {
   "codemirror_mode": {
    "name": "ipython",
    "version": 3
   },
   "file_extension": ".py",
   "mimetype": "text/x-python",
   "name": "python",
   "nbconvert_exporter": "python",
   "pygments_lexer": "ipython3",
   "version": "3.6.8"
  }
 },
 "nbformat": 4,
 "nbformat_minor": 1
}
