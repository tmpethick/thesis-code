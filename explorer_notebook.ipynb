{
 "cells": [
  {
   "cell_type": "code",
   "execution_count": 765,
   "metadata": {},
   "outputs": [
    {
     "name": "stdout",
     "output_type": "stream",
     "text": [
      "The autoreload extension is already loaded. To reload it, use:\n",
      "  %reload_ext autoreload\n"
     ]
    }
   ],
   "source": [
    "%load_ext autoreload\n",
    "%autoreload 2"
   ]
  },
  {
   "cell_type": "code",
   "execution_count": 766,
   "metadata": {},
   "outputs": [],
   "source": [
    "import sys\n",
    "sys.path.append('.')\n",
    "\n",
    "import pandas as pd\n",
    "import numpy as np\n",
    "import incense\n",
    "from incense import ExperimentLoader\n",
    "import matplotlib.pyplot as plt\n",
    "from src import settings\n",
    "\n",
    "loader = ExperimentLoader(\n",
    "    mongo_uri=None,    \n",
    "    db_name='lions'\n",
    ")"
   ]
  },
  {
   "cell_type": "code",
   "execution_count": 755,
   "metadata": {},
   "outputs": [],
   "source": [
    "def find_similar(exp):\n",
    "    \"\"\"function to find based on hash.\n",
    "    \"\"\"\n",
    "    hash_ = exp.to_dict()['config'][settings.EXP_HASH]\n",
    "    return loader.find_by_config_key(settings.EXP_HASH, hash_)\n",
    "\n",
    "def hash_based_bundle(exps):\n",
    "    bundles = {}\n",
    "    for exp in exps:\n",
    "        hash_ = exp.to_dict()['config'][settings.EXP_HASH]\n",
    "        if hash_ in bundles:\n",
    "            bundles[hash_].append(exp)\n",
    "        else:\n",
    "            bundles[hash_] = [exp]\n",
    "    return bundles\n",
    "\n",
    "def get_bo_plots(exp):\n",
    "    return {k: v for k,v in exp.artifacts.items() if k.startswith('bo-plot')}"
   ]
  },
  {
   "cell_type": "markdown",
   "metadata": {},
   "source": [
    "# Show aggregate\n"
   ]
  },
  {
   "cell_type": "code",
   "execution_count": 756,
   "metadata": {},
   "outputs": [],
   "source": [
    "# From one to all of same hash.\n",
    "\n",
    "query = {\"$and\": [\n",
    "            {\"config.model.name\": \"GPModel\"},\n",
    "        ]}\n",
    "exp = loader.find(query)[0]\n",
    "exps = find_similar(exp)"
   ]
  },
  {
   "cell_type": "code",
   "execution_count": 757,
   "metadata": {},
   "outputs": [
    {
     "data": {
      "text/html": [
       "<div>\n",
       "<style scoped>\n",
       "    .dataframe tbody tr th:only-of-type {\n",
       "        vertical-align: middle;\n",
       "    }\n",
       "\n",
       "    .dataframe tbody tr th {\n",
       "        vertical-align: top;\n",
       "    }\n",
       "\n",
       "    .dataframe thead th {\n",
       "        text-align: right;\n",
       "    }\n",
       "</style>\n",
       "<table border=\"1\" class=\"dataframe\">\n",
       "  <thead>\n",
       "    <tr style=\"text-align: right;\">\n",
       "      <th></th>\n",
       "      <th>count</th>\n",
       "      <th>exps</th>\n",
       "      <th>model</th>\n",
       "      <th>model2</th>\n",
       "      <th>acq</th>\n",
       "      <th>bo</th>\n",
       "      <th>f</th>\n",
       "      <th>config</th>\n",
       "    </tr>\n",
       "  </thead>\n",
       "  <tbody>\n",
       "    <tr>\n",
       "      <th>2f14477906bb50a7e19bc07292a3242353549fdd</th>\n",
       "      <td>6</td>\n",
       "      <td>[Experiment(id=4, name=lions), Experiment(id=7...</td>\n",
       "      <td>GPModel</td>\n",
       "      <td>None</td>\n",
       "      <td>CurvatureAcquisition</td>\n",
       "      <td>True</td>\n",
       "      <td>Sinc</td>\n",
       "      <td>{'acquisition_function': {'name': 'CurvatureAc...</td>\n",
       "    </tr>\n",
       "    <tr>\n",
       "      <th>60519fa6dbfe5a80969a4b30ddd14cafbf68612f</th>\n",
       "      <td>4</td>\n",
       "      <td>[Experiment(id=22, name=lions), Experiment(id=...</td>\n",
       "      <td>GPModel</td>\n",
       "      <td>None</td>\n",
       "      <td>CurvatureAcquisition</td>\n",
       "      <td>True</td>\n",
       "      <td>Kink1D</td>\n",
       "      <td>{'acquisition_function': {'name': 'CurvatureAc...</td>\n",
       "    </tr>\n",
       "    <tr>\n",
       "      <th>82495c9e9cd53a44d0902d1d7747d57948e3e6eb</th>\n",
       "      <td>6</td>\n",
       "      <td>[Experiment(id=2, name=lions), Experiment(id=5...</td>\n",
       "      <td>GPModel</td>\n",
       "      <td>None</td>\n",
       "      <td>None</td>\n",
       "      <td>False</td>\n",
       "      <td>Sinc</td>\n",
       "      <td>{'exp_hash': '82495c9e9cd53a44d0902d1d7747d579...</td>\n",
       "    </tr>\n",
       "    <tr>\n",
       "      <th>8356d2f0fa47fcfe731ca0b3f0d053b00933121f</th>\n",
       "      <td>4</td>\n",
       "      <td>[Experiment(id=21, name=lions), Experiment(id=...</td>\n",
       "      <td>GPModel</td>\n",
       "      <td>None</td>\n",
       "      <td>QuadratureAcquisition</td>\n",
       "      <td>True</td>\n",
       "      <td>Kink1D</td>\n",
       "      <td>{'acquisition_function': {'name': 'QuadratureA...</td>\n",
       "    </tr>\n",
       "    <tr>\n",
       "      <th>bcc45c47bfbf213bbd3fc2342f230019bbc5d606</th>\n",
       "      <td>1</td>\n",
       "      <td>[Experiment(id=32, name=lions)]</td>\n",
       "      <td>GPModel</td>\n",
       "      <td>None</td>\n",
       "      <td>None</td>\n",
       "      <td>False</td>\n",
       "      <td>Kink2D</td>\n",
       "      <td>{'exp_hash': 'bcc45c47bfbf213bbd3fc2342f230019...</td>\n",
       "    </tr>\n",
       "    <tr>\n",
       "      <th>d9a0722520d418365cd04147526a7fa5e50d51f8</th>\n",
       "      <td>6</td>\n",
       "      <td>[Experiment(id=3, name=lions), Experiment(id=6...</td>\n",
       "      <td>GPModel</td>\n",
       "      <td>None</td>\n",
       "      <td>QuadratureAcquisition</td>\n",
       "      <td>True</td>\n",
       "      <td>Sinc</td>\n",
       "      <td>{'acquisition_function': {'name': 'QuadratureA...</td>\n",
       "    </tr>\n",
       "    <tr>\n",
       "      <th>f53f413aa739ac60b96d1c8413732a1695586416</th>\n",
       "      <td>4</td>\n",
       "      <td>[Experiment(id=20, name=lions), Experiment(id=...</td>\n",
       "      <td>GPModel</td>\n",
       "      <td>None</td>\n",
       "      <td>None</td>\n",
       "      <td>False</td>\n",
       "      <td>Kink1D</td>\n",
       "      <td>{'exp_hash': 'f53f413aa739ac60b96d1c8413732a16...</td>\n",
       "    </tr>\n",
       "  </tbody>\n",
       "</table>\n",
       "</div>"
      ],
      "text/plain": [
       "                                          count  \\\n",
       "2f14477906bb50a7e19bc07292a3242353549fdd      6   \n",
       "60519fa6dbfe5a80969a4b30ddd14cafbf68612f      4   \n",
       "82495c9e9cd53a44d0902d1d7747d57948e3e6eb      6   \n",
       "8356d2f0fa47fcfe731ca0b3f0d053b00933121f      4   \n",
       "bcc45c47bfbf213bbd3fc2342f230019bbc5d606      1   \n",
       "d9a0722520d418365cd04147526a7fa5e50d51f8      6   \n",
       "f53f413aa739ac60b96d1c8413732a1695586416      4   \n",
       "\n",
       "                                                                                       exps  \\\n",
       "2f14477906bb50a7e19bc07292a3242353549fdd  [Experiment(id=4, name=lions), Experiment(id=7...   \n",
       "60519fa6dbfe5a80969a4b30ddd14cafbf68612f  [Experiment(id=22, name=lions), Experiment(id=...   \n",
       "82495c9e9cd53a44d0902d1d7747d57948e3e6eb  [Experiment(id=2, name=lions), Experiment(id=5...   \n",
       "8356d2f0fa47fcfe731ca0b3f0d053b00933121f  [Experiment(id=21, name=lions), Experiment(id=...   \n",
       "bcc45c47bfbf213bbd3fc2342f230019bbc5d606                    [Experiment(id=32, name=lions)]   \n",
       "d9a0722520d418365cd04147526a7fa5e50d51f8  [Experiment(id=3, name=lions), Experiment(id=6...   \n",
       "f53f413aa739ac60b96d1c8413732a1695586416  [Experiment(id=20, name=lions), Experiment(id=...   \n",
       "\n",
       "                                            model model2  \\\n",
       "2f14477906bb50a7e19bc07292a3242353549fdd  GPModel   None   \n",
       "60519fa6dbfe5a80969a4b30ddd14cafbf68612f  GPModel   None   \n",
       "82495c9e9cd53a44d0902d1d7747d57948e3e6eb  GPModel   None   \n",
       "8356d2f0fa47fcfe731ca0b3f0d053b00933121f  GPModel   None   \n",
       "bcc45c47bfbf213bbd3fc2342f230019bbc5d606  GPModel   None   \n",
       "d9a0722520d418365cd04147526a7fa5e50d51f8  GPModel   None   \n",
       "f53f413aa739ac60b96d1c8413732a1695586416  GPModel   None   \n",
       "\n",
       "                                                            acq     bo  \\\n",
       "2f14477906bb50a7e19bc07292a3242353549fdd   CurvatureAcquisition   True   \n",
       "60519fa6dbfe5a80969a4b30ddd14cafbf68612f   CurvatureAcquisition   True   \n",
       "82495c9e9cd53a44d0902d1d7747d57948e3e6eb                   None  False   \n",
       "8356d2f0fa47fcfe731ca0b3f0d053b00933121f  QuadratureAcquisition   True   \n",
       "bcc45c47bfbf213bbd3fc2342f230019bbc5d606                   None  False   \n",
       "d9a0722520d418365cd04147526a7fa5e50d51f8  QuadratureAcquisition   True   \n",
       "f53f413aa739ac60b96d1c8413732a1695586416                   None  False   \n",
       "\n",
       "                                               f  \\\n",
       "2f14477906bb50a7e19bc07292a3242353549fdd    Sinc   \n",
       "60519fa6dbfe5a80969a4b30ddd14cafbf68612f  Kink1D   \n",
       "82495c9e9cd53a44d0902d1d7747d57948e3e6eb    Sinc   \n",
       "8356d2f0fa47fcfe731ca0b3f0d053b00933121f  Kink1D   \n",
       "bcc45c47bfbf213bbd3fc2342f230019bbc5d606  Kink2D   \n",
       "d9a0722520d418365cd04147526a7fa5e50d51f8    Sinc   \n",
       "f53f413aa739ac60b96d1c8413732a1695586416  Kink1D   \n",
       "\n",
       "                                                                                     config  \n",
       "2f14477906bb50a7e19bc07292a3242353549fdd  {'acquisition_function': {'name': 'CurvatureAc...  \n",
       "60519fa6dbfe5a80969a4b30ddd14cafbf68612f  {'acquisition_function': {'name': 'CurvatureAc...  \n",
       "82495c9e9cd53a44d0902d1d7747d57948e3e6eb  {'exp_hash': '82495c9e9cd53a44d0902d1d7747d579...  \n",
       "8356d2f0fa47fcfe731ca0b3f0d053b00933121f  {'acquisition_function': {'name': 'QuadratureA...  \n",
       "bcc45c47bfbf213bbd3fc2342f230019bbc5d606  {'exp_hash': 'bcc45c47bfbf213bbd3fc2342f230019...  \n",
       "d9a0722520d418365cd04147526a7fa5e50d51f8  {'acquisition_function': {'name': 'QuadratureA...  \n",
       "f53f413aa739ac60b96d1c8413732a1695586416  {'exp_hash': 'f53f413aa739ac60b96d1c8413732a16...  "
      ]
     },
     "execution_count": 757,
     "metadata": {},
     "output_type": "execute_result"
    }
   ],
   "source": [
    "# display name\n",
    "# list of exp\n",
    "\n",
    "def get_exp_key_col(exp):\n",
    "    config = exp.to_dict()['config']\n",
    "    return {\n",
    "        'model': config['model']['name'],\n",
    "        'model2': config.get('model2', {}).get('name', None),\n",
    "        'acq': config.get('acquisition_function', {}).get('name'),\n",
    "        'bo': bool(config.get('bo', None)),\n",
    "        'f': config['obj_func']['name'],\n",
    "        'config': config,\n",
    "    }\n",
    "\n",
    "exps = loader.find({'status': 'COMPLETED'})\n",
    "bundles = hash_based_bundle(exps)\n",
    "bundles = {k: dict(count=len(v), exps=v, **get_exp_key_col(v[0])) for k,v in bundles.items()}\n",
    "\n",
    "df = pd.DataFrame.from_dict(bundles, orient='index')\n",
    "df"
   ]
  },
  {
   "cell_type": "markdown",
   "metadata": {},
   "source": [
    "## Plot BO CI"
   ]
  },
  {
   "cell_type": "code",
   "execution_count": 758,
   "metadata": {},
   "outputs": [],
   "source": [
    "#exps_row = df.loc[df.bo == True].iloc[0]\n",
    "exps_row = df.loc[\"60519fa6dbfe5a80969a4b30ddd14cafbf68612f\"]\n",
    "exps = exps_row.exps"
   ]
  },
  {
   "cell_type": "code",
   "execution_count": 759,
   "metadata": {},
   "outputs": [
    {
     "data": {
      "text/plain": [
       "<matplotlib.collections.PolyCollection at 0x1418b1d30>"
      ]
     },
     "execution_count": 759,
     "metadata": {},
     "output_type": "execute_result"
    },
    {
     "data": {
      "image/png": "[encoded data removed]",
      "text/plain": [
       "<Figure size 432x288 with 1 Axes>"
      ]
     },
     "metadata": {
      "needs_background": "light"
     },
     "output_type": "display_data"
    }
   ],
   "source": [
    "# Calculate mean and variance of MSE\n",
    "# TODO: maybe not silence missing MSE...\n",
    "df_concat = pd.concat([exp.metrics.get('mse',pd.Series([])) for exp in exps], axis=1)\n",
    "mean = df_concat.mean(axis=1)\n",
    "var = df_concat.var(axis=1)\n",
    "plt.title('RMSE')\n",
    "plt.plot(df_concat.index, mean)\n",
    "plt.fill_between(df_concat.index, mean - 2 * np.sqrt(var), mean + 2 * np.sqrt(var), alpha=0.2)"
   ]
  },
  {
   "cell_type": "code",
   "execution_count": 760,
   "metadata": {},
   "outputs": [
    {
     "data": {
      "image/png": "[encoded data removed]",
      "text/plain": [
       "<Figure size 720x720 with 1 Axes>"
      ]
     },
     "metadata": {
      "needs_background": "light"
     },
     "output_type": "display_data"
    },
    {
     "data": {
      "image/png": "[encoded data removed]",
      "text/plain": [
       "<Figure size 720x720 with 1 Axes>"
      ]
     },
     "metadata": {
      "needs_background": "light"
     },
     "output_type": "display_data"
    },
    {
     "data": {
      "image/png": "[encoded data removed]",
      "text/plain": [
       "<Figure size 720x720 with 1 Axes>"
      ]
     },
     "metadata": {
      "needs_background": "light"
     },
     "output_type": "display_data"
    },
    {
     "data": {
      "image/png": "[encoded data removed]",
      "text/plain": [
       "<Figure size 720x720 with 1 Axes>"
      ]
     },
     "metadata": {
      "needs_background": "light"
     },
     "output_type": "display_data"
    }
   ],
   "source": [
    "# Plot all last BO plot\n",
    "# TODO: plot in grid\n",
    "for i, exp in enumerate(exps):\n",
    "    name, last_plot = sorted(get_bo_plots(exp).items())[-1]\n",
    "    last_plot.show()\n",
    "    plt.title(\"Experiment {}:\".format(i))\n"
   ]
  },
  {
   "cell_type": "markdown",
   "metadata": {},
   "source": [
    "## Plot GP final MSE"
   ]
  },
  {
   "cell_type": "code",
   "execution_count": 761,
   "metadata": {},
   "outputs": [
    {
     "data": {
      "text/html": [
       "<div>\n",
       "<style scoped>\n",
       "    .dataframe tbody tr th:only-of-type {\n",
       "        vertical-align: middle;\n",
       "    }\n",
       "\n",
       "    .dataframe tbody tr th {\n",
       "        vertical-align: top;\n",
       "    }\n",
       "\n",
       "    .dataframe thead th {\n",
       "        text-align: right;\n",
       "    }\n",
       "</style>\n",
       "<table border=\"1\" class=\"dataframe\">\n",
       "  <thead>\n",
       "    <tr style=\"text-align: right;\">\n",
       "      <th></th>\n",
       "      <th>count</th>\n",
       "      <th>exps</th>\n",
       "      <th>model</th>\n",
       "      <th>model2</th>\n",
       "      <th>acq</th>\n",
       "      <th>bo</th>\n",
       "      <th>f</th>\n",
       "      <th>config</th>\n",
       "    </tr>\n",
       "  </thead>\n",
       "  <tbody>\n",
       "    <tr>\n",
       "      <th>60519fa6dbfe5a80969a4b30ddd14cafbf68612f</th>\n",
       "      <td>4</td>\n",
       "      <td>[Experiment(id=22, name=lions), Experiment(id=...</td>\n",
       "      <td>GPModel</td>\n",
       "      <td>None</td>\n",
       "      <td>CurvatureAcquisition</td>\n",
       "      <td>True</td>\n",
       "      <td>Kink1D</td>\n",
       "      <td>{'acquisition_function': {'name': 'CurvatureAc...</td>\n",
       "    </tr>\n",
       "    <tr>\n",
       "      <th>8356d2f0fa47fcfe731ca0b3f0d053b00933121f</th>\n",
       "      <td>4</td>\n",
       "      <td>[Experiment(id=21, name=lions), Experiment(id=...</td>\n",
       "      <td>GPModel</td>\n",
       "      <td>None</td>\n",
       "      <td>QuadratureAcquisition</td>\n",
       "      <td>True</td>\n",
       "      <td>Kink1D</td>\n",
       "      <td>{'acquisition_function': {'name': 'QuadratureA...</td>\n",
       "    </tr>\n",
       "    <tr>\n",
       "      <th>f53f413aa739ac60b96d1c8413732a1695586416</th>\n",
       "      <td>4</td>\n",
       "      <td>[Experiment(id=20, name=lions), Experiment(id=...</td>\n",
       "      <td>GPModel</td>\n",
       "      <td>None</td>\n",
       "      <td>None</td>\n",
       "      <td>False</td>\n",
       "      <td>Kink1D</td>\n",
       "      <td>{'exp_hash': 'f53f413aa739ac60b96d1c8413732a16...</td>\n",
       "    </tr>\n",
       "  </tbody>\n",
       "</table>\n",
       "</div>"
      ],
      "text/plain": [
       "                                          count  \\\n",
       "60519fa6dbfe5a80969a4b30ddd14cafbf68612f      4   \n",
       "8356d2f0fa47fcfe731ca0b3f0d053b00933121f      4   \n",
       "f53f413aa739ac60b96d1c8413732a1695586416      4   \n",
       "\n",
       "                                                                                       exps  \\\n",
       "60519fa6dbfe5a80969a4b30ddd14cafbf68612f  [Experiment(id=22, name=lions), Experiment(id=...   \n",
       "8356d2f0fa47fcfe731ca0b3f0d053b00933121f  [Experiment(id=21, name=lions), Experiment(id=...   \n",
       "f53f413aa739ac60b96d1c8413732a1695586416  [Experiment(id=20, name=lions), Experiment(id=...   \n",
       "\n",
       "                                            model model2  \\\n",
       "60519fa6dbfe5a80969a4b30ddd14cafbf68612f  GPModel   None   \n",
       "8356d2f0fa47fcfe731ca0b3f0d053b00933121f  GPModel   None   \n",
       "f53f413aa739ac60b96d1c8413732a1695586416  GPModel   None   \n",
       "\n",
       "                                                            acq     bo  \\\n",
       "60519fa6dbfe5a80969a4b30ddd14cafbf68612f   CurvatureAcquisition   True   \n",
       "8356d2f0fa47fcfe731ca0b3f0d053b00933121f  QuadratureAcquisition   True   \n",
       "f53f413aa739ac60b96d1c8413732a1695586416                   None  False   \n",
       "\n",
       "                                               f  \\\n",
       "60519fa6dbfe5a80969a4b30ddd14cafbf68612f  Kink1D   \n",
       "8356d2f0fa47fcfe731ca0b3f0d053b00933121f  Kink1D   \n",
       "f53f413aa739ac60b96d1c8413732a1695586416  Kink1D   \n",
       "\n",
       "                                                                                     config  \n",
       "60519fa6dbfe5a80969a4b30ddd14cafbf68612f  {'acquisition_function': {'name': 'CurvatureAc...  \n",
       "8356d2f0fa47fcfe731ca0b3f0d053b00933121f  {'acquisition_function': {'name': 'QuadratureA...  \n",
       "f53f413aa739ac60b96d1c8413732a1695586416  {'exp_hash': 'f53f413aa739ac60b96d1c8413732a16...  "
      ]
     },
     "execution_count": 761,
     "metadata": {},
     "output_type": "execute_result"
    }
   ],
   "source": [
    "exps_rows_df = df\n",
    "#exps_rows_df = exps_rows_df.loc[exps_rows_df.bo == False]\n",
    "#exps_rows_df = exps_rows_df[exps_rows_df.f == 'Kink1D']\n",
    "exps_rows_df = exps_rows_df[exps_rows_df.f == 'Kink1D']\n",
    "#exps_rows_df = exps_rows_df[exps_rows_df.model == 'DKLGPModel']\n",
    "exps_rows_df = exps_rows_df.copy()\n",
    "exps_rows_df"
   ]
  },
  {
   "cell_type": "code",
   "execution_count": 762,
   "metadata": {},
   "outputs": [
    {
     "data": {
      "text/plain": [
       "Experiment(id=28, name=lions)"
      ]
     },
     "execution_count": 762,
     "metadata": {},
     "output_type": "execute_result"
    }
   ],
   "source": [
    "exps_rows_df.loc['60519fa6dbfe5a80969a4b30ddd14cafbf68612f'].exps.pop()\n",
    "exps_rows_df.loc['60519fa6dbfe5a80969a4b30ddd14cafbf68612f'].exps.pop()"
   ]
  },
  {
   "cell_type": "code",
   "execution_count": 763,
   "metadata": {},
   "outputs": [
    {
     "data": {
      "text/html": [
       "<div>\n",
       "<style scoped>\n",
       "    .dataframe tbody tr th:only-of-type {\n",
       "        vertical-align: middle;\n",
       "    }\n",
       "\n",
       "    .dataframe tbody tr th {\n",
       "        vertical-align: top;\n",
       "    }\n",
       "\n",
       "    .dataframe thead th {\n",
       "        text-align: right;\n",
       "    }\n",
       "</style>\n",
       "<table border=\"1\" class=\"dataframe\">\n",
       "  <thead>\n",
       "    <tr style=\"text-align: right;\">\n",
       "      <th></th>\n",
       "      <th>count</th>\n",
       "      <th>exps</th>\n",
       "      <th>model</th>\n",
       "      <th>model2</th>\n",
       "      <th>acq</th>\n",
       "      <th>bo</th>\n",
       "      <th>f</th>\n",
       "      <th>config</th>\n",
       "      <th>rmse</th>\n",
       "      <th>rmse_mean</th>\n",
       "      <th>rmse_var</th>\n",
       "    </tr>\n",
       "    <tr>\n",
       "      <th>name</th>\n",
       "      <th></th>\n",
       "      <th></th>\n",
       "      <th></th>\n",
       "      <th></th>\n",
       "      <th></th>\n",
       "      <th></th>\n",
       "      <th></th>\n",
       "      <th></th>\n",
       "      <th></th>\n",
       "      <th></th>\n",
       "      <th></th>\n",
       "    </tr>\n",
       "  </thead>\n",
       "  <tbody>\n",
       "    <tr>\n",
       "      <th>GPModel BO CurvatureAcquisition Kink1D</th>\n",
       "      <td>4</td>\n",
       "      <td>[Experiment(id=22, name=lions), Experiment(id=...</td>\n",
       "      <td>GPModel</td>\n",
       "      <td>None</td>\n",
       "      <td>CurvatureAcquisition</td>\n",
       "      <td>True</td>\n",
       "      <td>Kink1D</td>\n",
       "      <td>{'acquisition_function': {'name': 'CurvatureAc...</td>\n",
       "      <td>[1571.415355495994, 1729.541118198903]</td>\n",
       "      <td>1650.478237</td>\n",
       "      <td>6250.939208</td>\n",
       "    </tr>\n",
       "    <tr>\n",
       "      <th>GPModel BO QuadratureAcquisition Kink1D</th>\n",
       "      <td>4</td>\n",
       "      <td>[Experiment(id=21, name=lions), Experiment(id=...</td>\n",
       "      <td>GPModel</td>\n",
       "      <td>None</td>\n",
       "      <td>QuadratureAcquisition</td>\n",
       "      <td>True</td>\n",
       "      <td>Kink1D</td>\n",
       "      <td>{'acquisition_function': {'name': 'QuadratureA...</td>\n",
       "      <td>[12753.516512168591, 13949.619505355258, 13949...</td>\n",
       "      <td>13650.593757</td>\n",
       "      <td>268249.194588</td>\n",
       "    </tr>\n",
       "    <tr>\n",
       "      <th>GPModel Kink1D</th>\n",
       "      <td>4</td>\n",
       "      <td>[Experiment(id=20, name=lions), Experiment(id=...</td>\n",
       "      <td>GPModel</td>\n",
       "      <td>None</td>\n",
       "      <td>None</td>\n",
       "      <td>False</td>\n",
       "      <td>Kink1D</td>\n",
       "      <td>{'exp_hash': 'f53f413aa739ac60b96d1c8413732a16...</td>\n",
       "      <td>[11927.504150179891, 13949.619508808562, 12891...</td>\n",
       "      <td>13088.577520</td>\n",
       "      <td>593717.695008</td>\n",
       "    </tr>\n",
       "  </tbody>\n",
       "</table>\n",
       "</div>"
      ],
      "text/plain": [
       "                                         count  \\\n",
       "name                                             \n",
       "GPModel BO CurvatureAcquisition Kink1D       4   \n",
       "GPModel BO QuadratureAcquisition Kink1D      4   \n",
       "GPModel Kink1D                               4   \n",
       "\n",
       "                                                                                      exps  \\\n",
       "name                                                                                         \n",
       "GPModel BO CurvatureAcquisition Kink1D   [Experiment(id=22, name=lions), Experiment(id=...   \n",
       "GPModel BO QuadratureAcquisition Kink1D  [Experiment(id=21, name=lions), Experiment(id=...   \n",
       "GPModel Kink1D                           [Experiment(id=20, name=lions), Experiment(id=...   \n",
       "\n",
       "                                           model model2  \\\n",
       "name                                                      \n",
       "GPModel BO CurvatureAcquisition Kink1D   GPModel   None   \n",
       "GPModel BO QuadratureAcquisition Kink1D  GPModel   None   \n",
       "GPModel Kink1D                           GPModel   None   \n",
       "\n",
       "                                                           acq     bo       f  \\\n",
       "name                                                                            \n",
       "GPModel BO CurvatureAcquisition Kink1D    CurvatureAcquisition   True  Kink1D   \n",
       "GPModel BO QuadratureAcquisition Kink1D  QuadratureAcquisition   True  Kink1D   \n",
       "GPModel Kink1D                                            None  False  Kink1D   \n",
       "\n",
       "                                                                                    config  \\\n",
       "name                                                                                         \n",
       "GPModel BO CurvatureAcquisition Kink1D   {'acquisition_function': {'name': 'CurvatureAc...   \n",
       "GPModel BO QuadratureAcquisition Kink1D  {'acquisition_function': {'name': 'QuadratureA...   \n",
       "GPModel Kink1D                           {'exp_hash': 'f53f413aa739ac60b96d1c8413732a16...   \n",
       "\n",
       "                                                                                      rmse  \\\n",
       "name                                                                                         \n",
       "GPModel BO CurvatureAcquisition Kink1D              [1571.415355495994, 1729.541118198903]   \n",
       "GPModel BO QuadratureAcquisition Kink1D  [12753.516512168591, 13949.619505355258, 13949...   \n",
       "GPModel Kink1D                           [11927.504150179891, 13949.619508808562, 12891...   \n",
       "\n",
       "                                            rmse_mean       rmse_var  \n",
       "name                                                                  \n",
       "GPModel BO CurvatureAcquisition Kink1D    1650.478237    6250.939208  \n",
       "GPModel BO QuadratureAcquisition Kink1D  13650.593757  268249.194588  \n",
       "GPModel Kink1D                           13088.577520  593717.695008  "
      ]
     },
     "execution_count": 763,
     "metadata": {},
     "output_type": "execute_result"
    }
   ],
   "source": [
    "# Stats on result\n",
    "exps_rows_df['rmse'] = exps_rows_df.apply(lambda row: np.array([e.result for e in row.exps], dtype=np.float), axis=1)\n",
    "exps_rows_df['rmse_mean'] = exps_rows_df.apply(lambda row: np.nanmean(row.rmse), axis=1)\n",
    "exps_rows_df['rmse_var'] = exps_rows_df.apply(lambda row: np.nanvar(row.rmse), axis=1)\n",
    "\n",
    "# Create short hand name for convinience\n",
    "def get_name(row):\n",
    "    name = row.model\n",
    "    if row.bo: \n",
    "        name = name + \" BO\"\n",
    "    if row.acq is not None: \n",
    "        name = name + \" \" + row.acq\n",
    "    name = name + \" \" + row.f\n",
    "    return name\n",
    "\n",
    "exps_rows_df['name'] = exps_rows_df.apply(get_name, axis=1)\n",
    "exps_rows_df = exps_rows_df.set_index('name')\n",
    "\n",
    "exps_rows_df"
   ]
  },
  {
   "cell_type": "code",
   "execution_count": 764,
   "metadata": {
    "scrolled": false
   },
   "outputs": [
    {
     "data": {
      "text/plain": [
       "<matplotlib.axes._subplots.AxesSubplot at 0x122061be0>"
      ]
     },
     "execution_count": 764,
     "metadata": {},
     "output_type": "execute_result"
    },
    {
     "data": {
      "image/png": "[encoded data removed]",
      "text/plain": [
       "<Figure size 432x288 with 1 Axes>"
      ]
     },
     "metadata": {
      "needs_background": "light"
     },
     "output_type": "display_data"
    }
   ],
   "source": [
    "# Plot result (MSE) boxes!\n",
    "exps_rows_df['rmse'].apply(lambda x: pd.Series(x)).T.boxplot(rot=45)"
   ]
  },
  {
   "cell_type": "markdown",
   "metadata": {},
   "source": [
    "# (Temporary) Dumbster for scripting..."
   ]
  },
  {
   "cell_type": "code",
   "execution_count": 542,
   "metadata": {},
   "outputs": [
    {
     "data": {
      "text/plain": [
       "(5, 2, 2)"
      ]
     },
     "execution_count": 542,
     "metadata": {},
     "output_type": "execute_result"
    }
   ],
   "source": [
    "import numpy as np\n",
    "\n",
    "D = 2\n",
    "N_new = 5\n",
    "N = 10\n",
    "\n",
    "A = np.ones((N,D,D))\n",
    "B = np.ones((N, N_new))\n",
    "C = np.tensordot(B, A, axes=(0,0))\n",
    "C.shape"
   ]
  },
  {
   "cell_type": "code",
   "execution_count": 543,
   "metadata": {},
   "outputs": [
    {
     "data": {
      "text/plain": [
       "array([[[10., 10.],\n",
       "        [10., 10.]],\n",
       "\n",
       "       [[10., 10.],\n",
       "        [10., 10.]],\n",
       "\n",
       "       [[10., 10.],\n",
       "        [10., 10.]],\n",
       "\n",
       "       [[10., 10.],\n",
       "        [10., 10.]],\n",
       "\n",
       "       [[10., 10.],\n",
       "        [10., 10.]]])"
      ]
     },
     "execution_count": 543,
     "metadata": {},
     "output_type": "execute_result"
    }
   ],
   "source": [
    "Lambda = np.identity(D)\n",
    "(Lambda @ C)"
   ]
  },
  {
   "cell_type": "code",
   "execution_count": 558,
   "metadata": {},
   "outputs": [
    {
     "data": {
      "text/plain": [
       "array([[[ 0,  0],\n",
       "        [-2, -2],\n",
       "        [-4, -4]],\n",
       "\n",
       "       [[ 2,  2],\n",
       "        [ 0,  0],\n",
       "        [-2, -2]]])"
      ]
     },
     "execution_count": 558,
     "metadata": {},
     "output_type": "execute_result"
    }
   ],
   "source": [
    "N = 2\n",
    "D = 2\n",
    "N_new = 3\n",
    "A = np.arange(N * D).reshape(N, D)\n",
    "B = np.arange(N_new * D).reshape(N_new, D)\n",
    "\n",
    "(A[:, None, :] - B[None, :, :])"
   ]
  },
  {
   "cell_type": "code",
   "execution_count": 523,
   "metadata": {},
   "outputs": [
    {
     "data": {
      "text/plain": [
       "(5, 10, 2)"
      ]
     },
     "execution_count": 523,
     "metadata": {},
     "output_type": "execute_result"
    }
   ],
   "source": [
    "X_new = np.arange(5 * 2).reshape((5, 2))\n",
    "X = np.arange(10 * 2).reshape((10, 2))\n",
    "\n",
    "np.einsum('ik,jk->ijk', X_new, -X).shape"
   ]
  },
  {
   "cell_type": "code",
   "execution_count": 538,
   "metadata": {},
   "outputs": [
    {
     "data": {
      "text/plain": [
       "array([ 0.,  5., 10., 15., 20.])"
      ]
     },
     "execution_count": 538,
     "metadata": {},
     "output_type": "execute_result"
    }
   ],
   "source": [
    "X = np.arange(5)\n",
    "La = np.ones(5 * 5).reshape((5, 5))\n",
    "np.einsum(\"ij,i->i\", La, X)"
   ]
  },
  {
   "cell_type": "code",
   "execution_count": 527,
   "metadata": {
    "scrolled": false
   },
   "outputs": [
    {
     "data": {
      "text/plain": [
       "array([[5., 5.],\n",
       "       [5., 5.],\n",
       "       [5., 5.],\n",
       "       [5., 5.],\n",
       "       [5., 5.],\n",
       "       [5., 5.],\n",
       "       [5., 5.],\n",
       "       [5., 5.],\n",
       "       [5., 5.],\n",
       "       [5., 5.]])"
      ]
     },
     "execution_count": 527,
     "metadata": {},
     "output_type": "execute_result"
    }
   ],
   "source": [
    "# Summing a and b\n",
    "k_Xx = np.ones((N_new, N, D))\n",
    "Ones = np.ones((N_new, N, D, D))\n",
    "alpha = np.ones((N, 1))\n",
    "\n",
    "np.einsum(\"ijkl,ijk->ikl\", Ones, k_Xx * alpha)\n",
    "np.einsum(\"jik,jik->ik\", k_Xx, k_Xx)"
   ]
  },
  {
   "cell_type": "markdown",
   "metadata": {},
   "source": [
    "# Single experiment explorer"
   ]
  },
  {
   "cell_type": "code",
   "execution_count": 191,
   "metadata": {},
   "outputs": [],
   "source": [
    "# Find the latest (using internal api of loader...)\n",
    "exp = loader._runs.find().sort([('timestamp', -1)]).limit(1)[0]\n",
    "exp = loader._make_experiment(exp)"
   ]
  },
  {
   "cell_type": "code",
   "execution_count": 192,
   "metadata": {},
   "outputs": [],
   "source": [
    "#exp = loader.find_by_id(-1)\n",
    "\n",
    "def artifact_to_numpy(artifact):\n",
    "    return np.load(artifact.file)\n",
    "\n",
    "X = artifact_to_numpy(exp.artifacts['X.npy'])\n",
    "Y = artifact_to_numpy(exp.artifacts['Y.npy'])\n",
    "\n",
    "bo_plots_dict = get_bo_plots(exp)\n",
    "bo_plots = [bo_plots_dict[k] for k in sorted(bo_plots_dict.keys())]"
   ]
  },
  {
   "cell_type": "code",
   "execution_count": 193,
   "metadata": {},
   "outputs": [
    {
     "data": {
      "application/vnd.jupyter.widget-view+json": {
       "model_id": "e7d31d5c6d5d4235bbc0c096a0b0f829",
       "version_major": 2,
       "version_minor": 0
      },
      "text/plain": [
       "interactive(children=(IntSlider(value=0, description='i', max=1), Output()), _dom_classes=('widget-interact',)…"
      ]
     },
     "metadata": {},
     "output_type": "display_data"
    }
   ],
   "source": [
    "from __future__ import print_function\n",
    "from ipywidgets import interact, interactive, fixed, interact_manual\n",
    "import ipywidgets as widgets\n",
    "\n",
    "@interact(i=(0, len(bo_plots)-1))\n",
    "def show_bo_plot(i):\n",
    "    bo_plots[i].show()"
   ]
  },
  {
   "cell_type": "code",
   "execution_count": 26,
   "metadata": {
    "scrolled": false
   },
   "outputs": [
    {
     "data": {
      "text/plain": [
       "<matplotlib.axes._subplots.AxesSubplot at 0x116f56080>"
      ]
     },
     "execution_count": 26,
     "metadata": {},
     "output_type": "execute_result"
    },
    {
     "data": {
      "image/png": "[encoded data removed]",
      "text/plain": [
       "<Figure size 432x288 with 1 Axes>"
      ]
     },
     "metadata": {
      "needs_background": "light"
     },
     "output_type": "display_data"
    }
   ],
   "source": [
    "exp.metrics['mse'].plot()"
   ]
  },
  {
   "cell_type": "markdown",
   "metadata": {},
   "source": [
    "## Reconstruct model"
   ]
  },
  {
   "cell_type": "code",
   "execution_count": null,
   "metadata": {},
   "outputs": [],
   "source": [
    "# TODO:\n",
    "# runner (in reconstruction mode)\n",
    "# refit model"
   ]
  },
  {
   "cell_type": "markdown",
   "metadata": {},
   "source": [
    "# Dangour Zone! (Used to clean mongodb)"
   ]
  },
  {
   "cell_type": "code",
   "execution_count": 560,
   "metadata": {},
   "outputs": [],
   "source": [
    "for exp in loader.find({}):\n",
    "    exp.delete()#confirmed=True)"
   ]
  },
  {
   "cell_type": "code",
   "execution_count": null,
   "metadata": {},
   "outputs": [],
   "source": []
  }
 ],
 "metadata": {
  "kernelspec": {
   "display_name": "Python 3",
   "language": "python",
   "name": "python3"
  },
  "language_info": {
   "codemirror_mode": {
    "name": "ipython",
    "version": 3
   },
   "file_extension": ".py",
   "mimetype": "text/x-python",
   "name": "python",
   "nbconvert_exporter": "python",
   "pygments_lexer": "ipython3",
   "version": "3.6.8"
  }
 },
 "nbformat": 4,
 "nbformat_minor": 1
}
